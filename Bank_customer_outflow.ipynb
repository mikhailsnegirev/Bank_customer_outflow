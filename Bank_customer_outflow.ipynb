{
 "cells": [
  {
   "cell_type": "markdown",
   "metadata": {
    "toc": true
   },
   "source": [
    "<h1>Содержание<span class=\"tocSkip\"></span></h1>\n",
    "<div class=\"toc\"><ul class=\"toc-item\"><li><span><a href=\"#Подготовка-данных\" data-toc-modified-id=\"Подготовка-данных-1\"><span class=\"toc-item-num\">1&nbsp;&nbsp;</span>Подготовка данных</a></span></li><li><span><a href=\"#Исследование-задачи\" data-toc-modified-id=\"Исследование-задачи-2\"><span class=\"toc-item-num\">2&nbsp;&nbsp;</span>Исследование задачи</a></span><ul class=\"toc-item\"><li><span><a href=\"#Разбиваем-данные-на-выборки\" data-toc-modified-id=\"Разбиваем-данные-на-выборки-2.1\"><span class=\"toc-item-num\">2.1&nbsp;&nbsp;</span>Разбиваем данные на выборки</a></span></li><li><span><a href=\"#Масштабирование-признаков\" data-toc-modified-id=\"Масштабирование-признаков-2.2\"><span class=\"toc-item-num\">2.2&nbsp;&nbsp;</span>Масштабирование признаков</a></span></li><li><span><a href=\"#Проверим-наличие-дисбаланса\" data-toc-modified-id=\"Проверим-наличие-дисбаланса-2.3\"><span class=\"toc-item-num\">2.3&nbsp;&nbsp;</span>Проверим наличие дисбаланса</a></span></li><li><span><a href=\"#Обучение-моделей-до-борьбы-с-дисбалансом\" data-toc-modified-id=\"Обучение-моделей-до-борьбы-с-дисбалансом-2.4\"><span class=\"toc-item-num\">2.4&nbsp;&nbsp;</span>Обучение моделей до борьбы с дисбалансом</a></span></li></ul></li><li><span><a href=\"#Борьба-с-дисбалансом\" data-toc-modified-id=\"Борьба-с-дисбалансом-3\"><span class=\"toc-item-num\">3&nbsp;&nbsp;</span>Борьба с дисбалансом</a></span><ul class=\"toc-item\"><li><span><a href=\"#Взвешивание-классов\" data-toc-modified-id=\"Взвешивание-классов-3.1\"><span class=\"toc-item-num\">3.1&nbsp;&nbsp;</span>Взвешивание классов</a></span></li><li><span><a href=\"#Увеличение-выборки-(upsampling)\" data-toc-modified-id=\"Увеличение-выборки-(upsampling)-3.2\"><span class=\"toc-item-num\">3.2&nbsp;&nbsp;</span>Увеличение выборки (upsampling)</a></span></li><li><span><a href=\"#Уменьшение-выборки-(downsampling)\" data-toc-modified-id=\"Уменьшение-выборки-(downsampling)-3.3\"><span class=\"toc-item-num\">3.3&nbsp;&nbsp;</span>Уменьшение выборки (downsampling)</a></span></li><li><span><a href=\"#Сравнение-значений-метрик-F1-score-наших-моделей\" data-toc-modified-id=\"Сравнение-значений-метрик-F1-score-наших-моделей-3.4\"><span class=\"toc-item-num\">3.4&nbsp;&nbsp;</span>Сравнение значений метрик F1-score наших моделей</a></span></li></ul></li><li><span><a href=\"#Тестирование-модели\" data-toc-modified-id=\"Тестирование-модели-4\"><span class=\"toc-item-num\">4&nbsp;&nbsp;</span>Тестирование модели</a></span></li><li><span><a href=\"#Вывод\" data-toc-modified-id=\"Вывод-5\"><span class=\"toc-item-num\">5&nbsp;&nbsp;</span>Вывод</a></span></li><li><span><a href=\"#Чек-лист-готовности-проекта\" data-toc-modified-id=\"Чек-лист-готовности-проекта-6\"><span class=\"toc-item-num\">6&nbsp;&nbsp;</span>Чек-лист готовности проекта</a></span></li></ul></div>"
   ]
  },
  {
   "cell_type": "markdown",
   "metadata": {},
   "source": [
    "# Отток клиентов"
   ]
  },
  {
   "cell_type": "markdown",
   "metadata": {},
   "source": [
    "Из «Бета-Банка» стали уходить клиенты. Каждый месяц. Немного, но заметно. Банковские маркетологи посчитали: сохранять текущих клиентов дешевле, чем привлекать новых.\n",
    "\n",
    "Нужно спрогнозировать, уйдёт клиент из банка в ближайшее время или нет. Нам предоставлены исторические данные о поведении клиентов и расторжении договоров с банком. \n",
    "\n",
    "Построим модель с предельно большим значением *F1*-меры. \n",
    "\n",
    "Источник данных: [https://www.kaggle.com/barelydedicated/bank-customer-churn-modeling](https://www.kaggle.com/barelydedicated/bank-customer-churn-modeling)"
   ]
  },
  {
   "cell_type": "markdown",
   "metadata": {},
   "source": [
    "**Описание данных**\n",
    "\n",
    "\n",
    "\n",
    "Признаки\n",
    "- RowNumber — индекс строки в данных\n",
    "- CustomerId — уникальный идентификатор клиента\n",
    "- Surname — фамилия\n",
    "- CreditScore — кредитный рейтинг\n",
    "- Geography — страна проживания\n",
    "- Gender — пол\n",
    "- Age — возраст\n",
    "- Tenure — сколько лет человек является клиентом банка\n",
    "- Balance — баланс на счёте\n",
    "- NumOfProducts — количество продуктов банка, используемых клиентом\n",
    "- HasCrCard — наличие кредитной карты\n",
    "- IsActiveMember — активность клиента\n",
    "- EstimatedSalary — предполагаемая зарплата\n",
    "\n",
    "\n",
    "Целевой признак\n",
    "- Exited — факт ухода клиента"
   ]
  },
  {
   "cell_type": "markdown",
   "metadata": {},
   "source": [
    "**Импорт необходимых библиотек:**"
   ]
  },
  {
   "cell_type": "code",
   "execution_count": 1,
   "metadata": {},
   "outputs": [],
   "source": [
    "import pandas as pd\n",
    "import matplotlib.pyplot as plt\n",
    "from sklearn.linear_model import LogisticRegression\n",
    "from sklearn.tree import DecisionTreeClassifier\n",
    "from sklearn.ensemble import RandomForestClassifier\n",
    "from sklearn.tree import DecisionTreeRegressor\n",
    "from sklearn.ensemble import RandomForestRegressor\n",
    "from sklearn.linear_model import LinearRegression\n",
    "from sklearn.model_selection import train_test_split\n",
    "from sklearn.metrics import plot_confusion_matrix\n",
    "from sklearn.metrics import f1_score\n",
    "from sklearn.metrics import mean_squared_error\n",
    "from sklearn.metrics import mean_absolute_error\n",
    "from sklearn.preprocessing import StandardScaler\n",
    "from sklearn.metrics import accuracy_score\n",
    "from sklearn.metrics import recall_score\n",
    "from sklearn.metrics import precision_score\n",
    "from sklearn.utils import shuffle\n",
    "from sklearn.metrics import precision_recall_curve\n",
    "from sklearn.metrics import roc_curve\n",
    "from sklearn.metrics import roc_auc_score\n",
    "from sklearn.metrics import r2_score\n",
    "\n",
    "import warnings\n",
    "warnings.filterwarnings(\"ignore\")"
   ]
  },
  {
   "cell_type": "markdown",
   "metadata": {},
   "source": [
    "## Подготовка данных"
   ]
  },
  {
   "cell_type": "code",
   "execution_count": 2,
   "metadata": {},
   "outputs": [],
   "source": [
    "data = pd.read_csv('/datasets/Churn.csv')"
   ]
  },
  {
   "cell_type": "code",
   "execution_count": 3,
   "metadata": {},
   "outputs": [
    {
     "data": {
      "text/html": [
       "<div>\n",
       "<style scoped>\n",
       "    .dataframe tbody tr th:only-of-type {\n",
       "        vertical-align: middle;\n",
       "    }\n",
       "\n",
       "    .dataframe tbody tr th {\n",
       "        vertical-align: top;\n",
       "    }\n",
       "\n",
       "    .dataframe thead th {\n",
       "        text-align: right;\n",
       "    }\n",
       "</style>\n",
       "<table border=\"1\" class=\"dataframe\">\n",
       "  <thead>\n",
       "    <tr style=\"text-align: right;\">\n",
       "      <th></th>\n",
       "      <th>RowNumber</th>\n",
       "      <th>CustomerId</th>\n",
       "      <th>Surname</th>\n",
       "      <th>CreditScore</th>\n",
       "      <th>Geography</th>\n",
       "      <th>Gender</th>\n",
       "      <th>Age</th>\n",
       "      <th>Tenure</th>\n",
       "      <th>Balance</th>\n",
       "      <th>NumOfProducts</th>\n",
       "      <th>HasCrCard</th>\n",
       "      <th>IsActiveMember</th>\n",
       "      <th>EstimatedSalary</th>\n",
       "      <th>Exited</th>\n",
       "    </tr>\n",
       "  </thead>\n",
       "  <tbody>\n",
       "    <tr>\n",
       "      <th>0</th>\n",
       "      <td>1</td>\n",
       "      <td>15634602</td>\n",
       "      <td>Hargrave</td>\n",
       "      <td>619</td>\n",
       "      <td>France</td>\n",
       "      <td>Female</td>\n",
       "      <td>42</td>\n",
       "      <td>2.0</td>\n",
       "      <td>0.00</td>\n",
       "      <td>1</td>\n",
       "      <td>1</td>\n",
       "      <td>1</td>\n",
       "      <td>101348.88</td>\n",
       "      <td>1</td>\n",
       "    </tr>\n",
       "    <tr>\n",
       "      <th>1</th>\n",
       "      <td>2</td>\n",
       "      <td>15647311</td>\n",
       "      <td>Hill</td>\n",
       "      <td>608</td>\n",
       "      <td>Spain</td>\n",
       "      <td>Female</td>\n",
       "      <td>41</td>\n",
       "      <td>1.0</td>\n",
       "      <td>83807.86</td>\n",
       "      <td>1</td>\n",
       "      <td>0</td>\n",
       "      <td>1</td>\n",
       "      <td>112542.58</td>\n",
       "      <td>0</td>\n",
       "    </tr>\n",
       "    <tr>\n",
       "      <th>2</th>\n",
       "      <td>3</td>\n",
       "      <td>15619304</td>\n",
       "      <td>Onio</td>\n",
       "      <td>502</td>\n",
       "      <td>France</td>\n",
       "      <td>Female</td>\n",
       "      <td>42</td>\n",
       "      <td>8.0</td>\n",
       "      <td>159660.80</td>\n",
       "      <td>3</td>\n",
       "      <td>1</td>\n",
       "      <td>0</td>\n",
       "      <td>113931.57</td>\n",
       "      <td>1</td>\n",
       "    </tr>\n",
       "    <tr>\n",
       "      <th>3</th>\n",
       "      <td>4</td>\n",
       "      <td>15701354</td>\n",
       "      <td>Boni</td>\n",
       "      <td>699</td>\n",
       "      <td>France</td>\n",
       "      <td>Female</td>\n",
       "      <td>39</td>\n",
       "      <td>1.0</td>\n",
       "      <td>0.00</td>\n",
       "      <td>2</td>\n",
       "      <td>0</td>\n",
       "      <td>0</td>\n",
       "      <td>93826.63</td>\n",
       "      <td>0</td>\n",
       "    </tr>\n",
       "    <tr>\n",
       "      <th>4</th>\n",
       "      <td>5</td>\n",
       "      <td>15737888</td>\n",
       "      <td>Mitchell</td>\n",
       "      <td>850</td>\n",
       "      <td>Spain</td>\n",
       "      <td>Female</td>\n",
       "      <td>43</td>\n",
       "      <td>2.0</td>\n",
       "      <td>125510.82</td>\n",
       "      <td>1</td>\n",
       "      <td>1</td>\n",
       "      <td>1</td>\n",
       "      <td>79084.10</td>\n",
       "      <td>0</td>\n",
       "    </tr>\n",
       "  </tbody>\n",
       "</table>\n",
       "</div>"
      ],
      "text/plain": [
       "   RowNumber  CustomerId   Surname  CreditScore Geography  Gender  Age  \\\n",
       "0          1    15634602  Hargrave          619    France  Female   42   \n",
       "1          2    15647311      Hill          608     Spain  Female   41   \n",
       "2          3    15619304      Onio          502    France  Female   42   \n",
       "3          4    15701354      Boni          699    France  Female   39   \n",
       "4          5    15737888  Mitchell          850     Spain  Female   43   \n",
       "\n",
       "   Tenure    Balance  NumOfProducts  HasCrCard  IsActiveMember  \\\n",
       "0     2.0       0.00              1          1               1   \n",
       "1     1.0   83807.86              1          0               1   \n",
       "2     8.0  159660.80              3          1               0   \n",
       "3     1.0       0.00              2          0               0   \n",
       "4     2.0  125510.82              1          1               1   \n",
       "\n",
       "   EstimatedSalary  Exited  \n",
       "0        101348.88       1  \n",
       "1        112542.58       0  \n",
       "2        113931.57       1  \n",
       "3         93826.63       0  \n",
       "4         79084.10       0  "
      ]
     },
     "execution_count": 3,
     "metadata": {},
     "output_type": "execute_result"
    }
   ],
   "source": [
    "data.head()"
   ]
  },
  {
   "cell_type": "code",
   "execution_count": 4,
   "metadata": {},
   "outputs": [
    {
     "name": "stdout",
     "output_type": "stream",
     "text": [
      "<class 'pandas.core.frame.DataFrame'>\n",
      "RangeIndex: 10000 entries, 0 to 9999\n",
      "Data columns (total 14 columns):\n",
      " #   Column           Non-Null Count  Dtype  \n",
      "---  ------           --------------  -----  \n",
      " 0   RowNumber        10000 non-null  int64  \n",
      " 1   CustomerId       10000 non-null  int64  \n",
      " 2   Surname          10000 non-null  object \n",
      " 3   CreditScore      10000 non-null  int64  \n",
      " 4   Geography        10000 non-null  object \n",
      " 5   Gender           10000 non-null  object \n",
      " 6   Age              10000 non-null  int64  \n",
      " 7   Tenure           9091 non-null   float64\n",
      " 8   Balance          10000 non-null  float64\n",
      " 9   NumOfProducts    10000 non-null  int64  \n",
      " 10  HasCrCard        10000 non-null  int64  \n",
      " 11  IsActiveMember   10000 non-null  int64  \n",
      " 12  EstimatedSalary  10000 non-null  float64\n",
      " 13  Exited           10000 non-null  int64  \n",
      "dtypes: float64(3), int64(8), object(3)\n",
      "memory usage: 1.1+ MB\n"
     ]
    }
   ],
   "source": [
    "data.info()"
   ]
  },
  {
   "cell_type": "markdown",
   "metadata": {},
   "source": [
    "**Проверим наши данные на дубликаты:**"
   ]
  },
  {
   "cell_type": "code",
   "execution_count": 5,
   "metadata": {},
   "outputs": [
    {
     "data": {
      "text/plain": [
       "0"
      ]
     },
     "execution_count": 5,
     "metadata": {},
     "output_type": "execute_result"
    }
   ],
   "source": [
    "data.duplicated().sum()"
   ]
  },
  {
   "cell_type": "markdown",
   "metadata": {},
   "source": [
    "Дубликатов не найдено, это хороший показатель, который поможет нам в том числе \"упростить\" наш датафрейм."
   ]
  },
  {
   "cell_type": "markdown",
   "metadata": {},
   "source": [
    "**Мы можем удалить столбец RowNumber, так как он дублирует информацию о номере записи, которая и так есть в исходном датафрейме:**"
   ]
  },
  {
   "cell_type": "code",
   "execution_count": 6,
   "metadata": {},
   "outputs": [],
   "source": [
    "data.drop(['RowNumber'], axis=1, inplace = True)"
   ]
  },
  {
   "cell_type": "markdown",
   "metadata": {},
   "source": [
    "**Проверим наличие дубликатов в столбце CustomerId:**"
   ]
  },
  {
   "cell_type": "code",
   "execution_count": 7,
   "metadata": {},
   "outputs": [
    {
     "data": {
      "text/plain": [
       "0"
      ]
     },
     "execution_count": 7,
     "metadata": {},
     "output_type": "execute_result"
    }
   ],
   "source": [
    "data['CustomerId'].duplicated().sum()"
   ]
  },
  {
   "cell_type": "markdown",
   "metadata": {},
   "source": [
    "Дубликатов нет, значит данные о всех клиентах уникальны, мы тоже можем удалить этот столбец:"
   ]
  },
  {
   "cell_type": "code",
   "execution_count": 8,
   "metadata": {},
   "outputs": [],
   "source": [
    "data.drop(['CustomerId'], axis=1, inplace = True)"
   ]
  },
  {
   "cell_type": "markdown",
   "metadata": {},
   "source": [
    "**Столбец Surname - это информация, которая идентифицирует пользователя. Наличие такого большого количества уникальных значений создает сложности для решения задачи, однако она не приносит ценности для качества будущей модели. Поэтому рекомендуется удалить этот столбец:**"
   ]
  },
  {
   "cell_type": "code",
   "execution_count": 9,
   "metadata": {},
   "outputs": [],
   "source": [
    "data.drop(['Surname'], axis=1, inplace = True)"
   ]
  },
  {
   "cell_type": "markdown",
   "metadata": {},
   "source": [
    "**В столбце Tenure, содержащим информацию о том, сколько лет человек является клиентом банка  пропущено почти 10% значений от обшего числа. Избавляться от такого столбца нецелесообразно, поэтому лучше заменим его минимальным значением:**"
   ]
  },
  {
   "cell_type": "code",
   "execution_count": 10,
   "metadata": {},
   "outputs": [],
   "source": [
    "data['Tenure'] = data['Tenure'].fillna(0)"
   ]
  },
  {
   "cell_type": "code",
   "execution_count": 63,
   "metadata": {},
   "outputs": [],
   "source": [
    "data_tenure = pd.read_csv('/datasets/Churn.csv')"
   ]
  },
  {
   "cell_type": "markdown",
   "metadata": {},
   "source": [
    "Рассчитаем процент пропущенных значений в столбце `Tenure`:"
   ]
  },
  {
   "cell_type": "code",
   "execution_count": 64,
   "metadata": {},
   "outputs": [
    {
     "name": "stdout",
     "output_type": "stream",
     "text": [
      "9.09\n"
     ]
    }
   ],
   "source": [
    "missing_percentage = (data_tenure['Tenure'].isnull().sum() / len(data)) * 100\n",
    "print(missing_percentage)"
   ]
  },
  {
   "cell_type": "markdown",
   "metadata": {},
   "source": [
    "В столбце Tenure, содержащим информацию о том, сколько лет человек является клиентом банка пропущено почти 10% значений от обшего числа. "
   ]
  },
  {
   "cell_type": "markdown",
   "metadata": {},
   "source": [
    "Построим гистограмму распределения данных в столбце `Tenure` до и после замены:"
   ]
  },
  {
   "cell_type": "code",
   "execution_count": 65,
   "metadata": {},
   "outputs": [
    {
     "data": {
      "image/png": "[encoded data removed]",
      "text/plain": [
       "<Figure size 720x360 with 2 Axes>"
      ]
     },
     "metadata": {
      "needs_background": "light"
     },
     "output_type": "display_data"
    }
   ],
   "source": [
    "plt.figure(figsize=(10, 5))\n",
    "plt.subplot(1, 2, 1)\n",
    "plt.title('Распределение до замены')\n",
    "plt.hist(data_tenure['Tenure'].dropna(), bins=20, edgecolor='k')\n",
    "plt.xlabel('Tenure')\n",
    "plt.ylabel('Частота')\n",
    "\n",
    "plt.subplot(1, 2, 2)\n",
    "plt.title('Распределение после замены')\n",
    "plt.hist(data['Tenure'], bins=20, edgecolor='k')\n",
    "plt.xlabel('Tenure')\n",
    "plt.ylabel('Частота')\n",
    "\n",
    "plt.tight_layout()\n",
    "plt.show()"
   ]
  },
  {
   "cell_type": "markdown",
   "metadata": {},
   "source": [
    "Сравним распределения данных до и после замены. Они сильно не меняются, это может быть аргументом в пользу замены нулями. \n",
    "\n",
    "В итоге, после анализа, мы можем принять обоснованное решение о том, что заменяем пропущенные значения нулями."
   ]
  },
  {
   "cell_type": "markdown",
   "metadata": {},
   "source": [
    "**Для столбцов Geography, Gender необходимо будет выполнить преобразование категориальных признаков в численные:**"
   ]
  },
  {
   "cell_type": "code",
   "execution_count": 12,
   "metadata": {},
   "outputs": [
    {
     "data": {
      "text/plain": [
       "array(['France', 'Spain', 'Germany'], dtype=object)"
      ]
     },
     "execution_count": 12,
     "metadata": {},
     "output_type": "execute_result"
    }
   ],
   "source": [
    "data['Geography'].unique()"
   ]
  },
  {
   "cell_type": "code",
   "execution_count": 13,
   "metadata": {},
   "outputs": [
    {
     "data": {
      "text/plain": [
       "array(['Female', 'Male'], dtype=object)"
      ]
     },
     "execution_count": 13,
     "metadata": {},
     "output_type": "execute_result"
    }
   ],
   "source": [
    "data['Gender'].unique()"
   ]
  },
  {
   "cell_type": "markdown",
   "metadata": {},
   "source": [
    "**Когда данных в избытке, можно угодить в ловушку фиктивных признаков. Если в таблицу добавились три новых столбца, сильно связанных между собой, один из них можно не добавлять. Восстановить столбец можно по оставшимся двум. Так мы не попадём в дамми-ловушку:**"
   ]
  },
  {
   "cell_type": "code",
   "execution_count": 14,
   "metadata": {},
   "outputs": [
    {
     "data": {
      "text/html": [
       "<div>\n",
       "<style scoped>\n",
       "    .dataframe tbody tr th:only-of-type {\n",
       "        vertical-align: middle;\n",
       "    }\n",
       "\n",
       "    .dataframe tbody tr th {\n",
       "        vertical-align: top;\n",
       "    }\n",
       "\n",
       "    .dataframe thead th {\n",
       "        text-align: right;\n",
       "    }\n",
       "</style>\n",
       "<table border=\"1\" class=\"dataframe\">\n",
       "  <thead>\n",
       "    <tr style=\"text-align: right;\">\n",
       "      <th></th>\n",
       "      <th>CreditScore</th>\n",
       "      <th>Age</th>\n",
       "      <th>Tenure</th>\n",
       "      <th>Balance</th>\n",
       "      <th>NumOfProducts</th>\n",
       "      <th>HasCrCard</th>\n",
       "      <th>IsActiveMember</th>\n",
       "      <th>EstimatedSalary</th>\n",
       "      <th>Exited</th>\n",
       "      <th>Geography_Germany</th>\n",
       "      <th>Geography_Spain</th>\n",
       "      <th>Gender_Male</th>\n",
       "    </tr>\n",
       "  </thead>\n",
       "  <tbody>\n",
       "    <tr>\n",
       "      <th>0</th>\n",
       "      <td>619</td>\n",
       "      <td>42</td>\n",
       "      <td>2.0</td>\n",
       "      <td>0.00</td>\n",
       "      <td>1</td>\n",
       "      <td>1</td>\n",
       "      <td>1</td>\n",
       "      <td>101348.88</td>\n",
       "      <td>1</td>\n",
       "      <td>0</td>\n",
       "      <td>0</td>\n",
       "      <td>0</td>\n",
       "    </tr>\n",
       "    <tr>\n",
       "      <th>1</th>\n",
       "      <td>608</td>\n",
       "      <td>41</td>\n",
       "      <td>1.0</td>\n",
       "      <td>83807.86</td>\n",
       "      <td>1</td>\n",
       "      <td>0</td>\n",
       "      <td>1</td>\n",
       "      <td>112542.58</td>\n",
       "      <td>0</td>\n",
       "      <td>0</td>\n",
       "      <td>1</td>\n",
       "      <td>0</td>\n",
       "    </tr>\n",
       "    <tr>\n",
       "      <th>2</th>\n",
       "      <td>502</td>\n",
       "      <td>42</td>\n",
       "      <td>8.0</td>\n",
       "      <td>159660.80</td>\n",
       "      <td>3</td>\n",
       "      <td>1</td>\n",
       "      <td>0</td>\n",
       "      <td>113931.57</td>\n",
       "      <td>1</td>\n",
       "      <td>0</td>\n",
       "      <td>0</td>\n",
       "      <td>0</td>\n",
       "    </tr>\n",
       "    <tr>\n",
       "      <th>3</th>\n",
       "      <td>699</td>\n",
       "      <td>39</td>\n",
       "      <td>1.0</td>\n",
       "      <td>0.00</td>\n",
       "      <td>2</td>\n",
       "      <td>0</td>\n",
       "      <td>0</td>\n",
       "      <td>93826.63</td>\n",
       "      <td>0</td>\n",
       "      <td>0</td>\n",
       "      <td>0</td>\n",
       "      <td>0</td>\n",
       "    </tr>\n",
       "    <tr>\n",
       "      <th>4</th>\n",
       "      <td>850</td>\n",
       "      <td>43</td>\n",
       "      <td>2.0</td>\n",
       "      <td>125510.82</td>\n",
       "      <td>1</td>\n",
       "      <td>1</td>\n",
       "      <td>1</td>\n",
       "      <td>79084.10</td>\n",
       "      <td>0</td>\n",
       "      <td>0</td>\n",
       "      <td>1</td>\n",
       "      <td>0</td>\n",
       "    </tr>\n",
       "  </tbody>\n",
       "</table>\n",
       "</div>"
      ],
      "text/plain": [
       "   CreditScore  Age  Tenure    Balance  NumOfProducts  HasCrCard  \\\n",
       "0          619   42     2.0       0.00              1          1   \n",
       "1          608   41     1.0   83807.86              1          0   \n",
       "2          502   42     8.0  159660.80              3          1   \n",
       "3          699   39     1.0       0.00              2          0   \n",
       "4          850   43     2.0  125510.82              1          1   \n",
       "\n",
       "   IsActiveMember  EstimatedSalary  Exited  Geography_Germany  \\\n",
       "0               1        101348.88       1                  0   \n",
       "1               1        112542.58       0                  0   \n",
       "2               0        113931.57       1                  0   \n",
       "3               0         93826.63       0                  0   \n",
       "4               1         79084.10       0                  0   \n",
       "\n",
       "   Geography_Spain  Gender_Male  \n",
       "0                0            0  \n",
       "1                1            0  \n",
       "2                0            0  \n",
       "3                0            0  \n",
       "4                1            0  "
      ]
     },
     "execution_count": 14,
     "metadata": {},
     "output_type": "execute_result"
    }
   ],
   "source": [
    "data = pd.get_dummies(data, drop_first=True)\n",
    "data.head()"
   ]
  },
  {
   "cell_type": "markdown",
   "metadata": {},
   "source": [
    "**Вывод:**\n",
    "   \n",
    "- Проверили датафрейм на дубликаты, их не нашлось\n",
    "\n",
    "- Удалили столбец RowNumber, так как он дублирует информацию о номере записи, которая и так есть в исходном датафрейме\n",
    "\n",
    "- Проверили наличие дубликатов в столбце CustomerId, дубликатов не нашлось, значит данные о всех клиентах уникальны, поэтому попрощались и с этим столбцом\n",
    "\n",
    "- Столбец Surname - это информация, которая идентифицирует пользователя. Наличие такого большого количества уникальных значений создает сложности для решения задачи, однако она не приносит ценности для качества будущей модели. Удалили этот столбец\n",
    "\n",
    "- В столбце Tenure, содержащим информацию о том, сколько лет человек является клиентом банка  пропущено почти 10% значений от обшего числа. Избавляться от такого столбца нецелесообразно, поэтому мы  заменили его минимальным значением\n",
    "\n",
    "- Выполнили  OHE  преобразование для столбцов Geography, Gender, избежали дамми-ловушки"
   ]
  },
  {
   "cell_type": "code",
   "execution_count": 66,
   "metadata": {},
   "outputs": [
    {
     "data": {
      "text/html": [
       "<div>\n",
       "<style scoped>\n",
       "    .dataframe tbody tr th:only-of-type {\n",
       "        vertical-align: middle;\n",
       "    }\n",
       "\n",
       "    .dataframe tbody tr th {\n",
       "        vertical-align: top;\n",
       "    }\n",
       "\n",
       "    .dataframe thead th {\n",
       "        text-align: right;\n",
       "    }\n",
       "</style>\n",
       "<table border=\"1\" class=\"dataframe\">\n",
       "  <thead>\n",
       "    <tr style=\"text-align: right;\">\n",
       "      <th></th>\n",
       "      <th>CreditScore</th>\n",
       "      <th>Age</th>\n",
       "      <th>Tenure</th>\n",
       "      <th>Balance</th>\n",
       "      <th>NumOfProducts</th>\n",
       "      <th>HasCrCard</th>\n",
       "      <th>IsActiveMember</th>\n",
       "      <th>EstimatedSalary</th>\n",
       "      <th>Exited</th>\n",
       "      <th>Geography_Germany</th>\n",
       "      <th>Geography_Spain</th>\n",
       "      <th>Gender_Male</th>\n",
       "    </tr>\n",
       "  </thead>\n",
       "  <tbody>\n",
       "    <tr>\n",
       "      <th>count</th>\n",
       "      <td>10000.000000</td>\n",
       "      <td>10000.000000</td>\n",
       "      <td>10000.000000</td>\n",
       "      <td>10000.000000</td>\n",
       "      <td>10000.000000</td>\n",
       "      <td>10000.00000</td>\n",
       "      <td>10000.000000</td>\n",
       "      <td>10000.000000</td>\n",
       "      <td>10000.000000</td>\n",
       "      <td>10000.000000</td>\n",
       "      <td>10000.000000</td>\n",
       "      <td>10000.000000</td>\n",
       "    </tr>\n",
       "    <tr>\n",
       "      <th>mean</th>\n",
       "      <td>650.528800</td>\n",
       "      <td>38.921800</td>\n",
       "      <td>4.543400</td>\n",
       "      <td>76485.889288</td>\n",
       "      <td>1.530200</td>\n",
       "      <td>0.70550</td>\n",
       "      <td>0.515100</td>\n",
       "      <td>100090.239881</td>\n",
       "      <td>0.203700</td>\n",
       "      <td>0.250900</td>\n",
       "      <td>0.247700</td>\n",
       "      <td>0.545700</td>\n",
       "    </tr>\n",
       "    <tr>\n",
       "      <th>std</th>\n",
       "      <td>96.653299</td>\n",
       "      <td>10.487806</td>\n",
       "      <td>3.111573</td>\n",
       "      <td>62397.405202</td>\n",
       "      <td>0.581654</td>\n",
       "      <td>0.45584</td>\n",
       "      <td>0.499797</td>\n",
       "      <td>57510.492818</td>\n",
       "      <td>0.402769</td>\n",
       "      <td>0.433553</td>\n",
       "      <td>0.431698</td>\n",
       "      <td>0.497932</td>\n",
       "    </tr>\n",
       "    <tr>\n",
       "      <th>min</th>\n",
       "      <td>350.000000</td>\n",
       "      <td>18.000000</td>\n",
       "      <td>0.000000</td>\n",
       "      <td>0.000000</td>\n",
       "      <td>1.000000</td>\n",
       "      <td>0.00000</td>\n",
       "      <td>0.000000</td>\n",
       "      <td>11.580000</td>\n",
       "      <td>0.000000</td>\n",
       "      <td>0.000000</td>\n",
       "      <td>0.000000</td>\n",
       "      <td>0.000000</td>\n",
       "    </tr>\n",
       "    <tr>\n",
       "      <th>25%</th>\n",
       "      <td>584.000000</td>\n",
       "      <td>32.000000</td>\n",
       "      <td>2.000000</td>\n",
       "      <td>0.000000</td>\n",
       "      <td>1.000000</td>\n",
       "      <td>0.00000</td>\n",
       "      <td>0.000000</td>\n",
       "      <td>51002.110000</td>\n",
       "      <td>0.000000</td>\n",
       "      <td>0.000000</td>\n",
       "      <td>0.000000</td>\n",
       "      <td>0.000000</td>\n",
       "    </tr>\n",
       "    <tr>\n",
       "      <th>50%</th>\n",
       "      <td>652.000000</td>\n",
       "      <td>37.000000</td>\n",
       "      <td>4.000000</td>\n",
       "      <td>97198.540000</td>\n",
       "      <td>1.000000</td>\n",
       "      <td>1.00000</td>\n",
       "      <td>1.000000</td>\n",
       "      <td>100193.915000</td>\n",
       "      <td>0.000000</td>\n",
       "      <td>0.000000</td>\n",
       "      <td>0.000000</td>\n",
       "      <td>1.000000</td>\n",
       "    </tr>\n",
       "    <tr>\n",
       "      <th>75%</th>\n",
       "      <td>718.000000</td>\n",
       "      <td>44.000000</td>\n",
       "      <td>7.000000</td>\n",
       "      <td>127644.240000</td>\n",
       "      <td>2.000000</td>\n",
       "      <td>1.00000</td>\n",
       "      <td>1.000000</td>\n",
       "      <td>149388.247500</td>\n",
       "      <td>0.000000</td>\n",
       "      <td>1.000000</td>\n",
       "      <td>0.000000</td>\n",
       "      <td>1.000000</td>\n",
       "    </tr>\n",
       "    <tr>\n",
       "      <th>max</th>\n",
       "      <td>850.000000</td>\n",
       "      <td>92.000000</td>\n",
       "      <td>10.000000</td>\n",
       "      <td>250898.090000</td>\n",
       "      <td>4.000000</td>\n",
       "      <td>1.00000</td>\n",
       "      <td>1.000000</td>\n",
       "      <td>199992.480000</td>\n",
       "      <td>1.000000</td>\n",
       "      <td>1.000000</td>\n",
       "      <td>1.000000</td>\n",
       "      <td>1.000000</td>\n",
       "    </tr>\n",
       "  </tbody>\n",
       "</table>\n",
       "</div>"
      ],
      "text/plain": [
       "        CreditScore           Age        Tenure        Balance  NumOfProducts  \\\n",
       "count  10000.000000  10000.000000  10000.000000   10000.000000   10000.000000   \n",
       "mean     650.528800     38.921800      4.543400   76485.889288       1.530200   \n",
       "std       96.653299     10.487806      3.111573   62397.405202       0.581654   \n",
       "min      350.000000     18.000000      0.000000       0.000000       1.000000   \n",
       "25%      584.000000     32.000000      2.000000       0.000000       1.000000   \n",
       "50%      652.000000     37.000000      4.000000   97198.540000       1.000000   \n",
       "75%      718.000000     44.000000      7.000000  127644.240000       2.000000   \n",
       "max      850.000000     92.000000     10.000000  250898.090000       4.000000   \n",
       "\n",
       "         HasCrCard  IsActiveMember  EstimatedSalary        Exited  \\\n",
       "count  10000.00000    10000.000000     10000.000000  10000.000000   \n",
       "mean       0.70550        0.515100    100090.239881      0.203700   \n",
       "std        0.45584        0.499797     57510.492818      0.402769   \n",
       "min        0.00000        0.000000        11.580000      0.000000   \n",
       "25%        0.00000        0.000000     51002.110000      0.000000   \n",
       "50%        1.00000        1.000000    100193.915000      0.000000   \n",
       "75%        1.00000        1.000000    149388.247500      0.000000   \n",
       "max        1.00000        1.000000    199992.480000      1.000000   \n",
       "\n",
       "       Geography_Germany  Geography_Spain   Gender_Male  \n",
       "count       10000.000000     10000.000000  10000.000000  \n",
       "mean            0.250900         0.247700      0.545700  \n",
       "std             0.433553         0.431698      0.497932  \n",
       "min             0.000000         0.000000      0.000000  \n",
       "25%             0.000000         0.000000      0.000000  \n",
       "50%             0.000000         0.000000      1.000000  \n",
       "75%             1.000000         0.000000      1.000000  \n",
       "max             1.000000         1.000000      1.000000  "
      ]
     },
     "execution_count": 66,
     "metadata": {},
     "output_type": "execute_result"
    }
   ],
   "source": [
    "data.describe()"
   ]
  },
  {
   "cell_type": "markdown",
   "metadata": {},
   "source": [
    "## Исследование задачи"
   ]
  },
  {
   "cell_type": "markdown",
   "metadata": {},
   "source": [
    "### Разбиваем данные на выборки"
   ]
  },
  {
   "cell_type": "code",
   "execution_count": 15,
   "metadata": {},
   "outputs": [],
   "source": [
    "#features содержит все признаки (характеристики), \n",
    "#которые будут использоваться для обучения модели, \n",
    "#а target — целевой признак, который модель будет пытаться предсказать.\n",
    "features = data.drop('Exited', axis=1)\n",
    "target = data['Exited']"
   ]
  },
  {
   "cell_type": "markdown",
   "metadata": {},
   "source": [
    "**Будем использовать функцию train_test_split(), чтобы разделить исходные данные (features и target) на обучающую выборку (features_train и target_train) и еще одну выборку, которую мы назовем \"промежуточной\" (features_test и target_test). Значение test_size=0.4 указывает, что 40% данных будут в этой \"промежуточной\" выборке, а 60% данных составят обучающую выборку.**"
   ]
  },
  {
   "cell_type": "code",
   "execution_count": 16,
   "metadata": {},
   "outputs": [],
   "source": [
    "features_train, features_test, target_train, target_test = train_test_split(features, \n",
    "                                                                            target, \n",
    "                                                                            test_size=0.4, \n",
    "                                                                            random_state=12345\n",
    "                                                                           ) "
   ]
  },
  {
   "cell_type": "markdown",
   "metadata": {},
   "source": [
    "**Затем мы продолжим делить \"промежуточную\" выборку на валидационную и тестовую выборки:**"
   ]
  },
  {
   "cell_type": "code",
   "execution_count": 17,
   "metadata": {},
   "outputs": [],
   "source": [
    "features_valid, features_test, target_valid, target_test = train_test_split(features_test, \n",
    "                                                                            target_test, \n",
    "                                                                            test_size=0.5, \n",
    "                                                                            random_state=12345\n",
    "                                                                           ) "
   ]
  },
  {
   "cell_type": "markdown",
   "metadata": {},
   "source": [
    "**Поскольку мы использовали test_size=0.5, \"промежуточная\" выборка была поровну разделена на валидационную (features_valid и target_valid) и тестовую (features_test и target_test) выборки. Это означает, что размер валидационной и тестовой выборки равен 20% от размера исходных данных (0.4 * 0.5 = 0.2).**"
   ]
  },
  {
   "cell_type": "markdown",
   "metadata": {},
   "source": [
    "Можем проверить размеры этих выборок, чтобы убедиться в правильности разбиения:"
   ]
  },
  {
   "cell_type": "code",
   "execution_count": 18,
   "metadata": {},
   "outputs": [
    {
     "name": "stdout",
     "output_type": "stream",
     "text": [
      "Обучающая выборка:\n",
      "(6000, 11)\n",
      "(6000,)\n",
      "\n",
      "Валидационная выборка:\n",
      "(2000, 11)\n",
      "(2000,)\n",
      "\n",
      "Тестовая выборка:\n",
      "(2000, 11)\n",
      "(2000,)\n"
     ]
    }
   ],
   "source": [
    "print(\"Обучающая выборка:\")\n",
    "print(features_train.shape)\n",
    "print(target_train.shape)\n",
    "\n",
    "print(\"\\nВалидационная выборка:\")\n",
    "print(features_valid.shape)\n",
    "print(target_valid.shape)\n",
    "\n",
    "print(\"\\nТестовая выборка:\")\n",
    "print(features_test.shape)\n",
    "print(target_test.shape)"
   ]
  },
  {
   "cell_type": "markdown",
   "metadata": {},
   "source": [
    "**В результате разбиения мы получили:**\n",
    "\n",
    "1. Обучающую выборку размером 60% от исходных данных.\n",
    "2. Валидационную выборку размером 20% от исходных данных.\n",
    "3. Тестовую выборку размером 20% от исходных данных."
   ]
  },
  {
   "cell_type": "markdown",
   "metadata": {},
   "source": [
    "### Масштабирование признаков"
   ]
  },
  {
   "cell_type": "markdown",
   "metadata": {},
   "source": [
    "Если в данных присутствуют колличественные признаки с разными разбросами значений, то алгорим может решить, что признаки с большими значениями и разбросом важнее. Чтобы избежать этой ловушки, признаки масштабируются — приводятся к одному масштабу."
   ]
  },
  {
   "cell_type": "code",
   "execution_count": 19,
   "metadata": {},
   "outputs": [],
   "source": [
    "numerical = ['CreditScore', 'Age', 'Tenure', 'Balance', 'NumOfProducts', 'EstimatedSalary']"
   ]
  },
  {
   "cell_type": "code",
   "execution_count": 20,
   "metadata": {},
   "outputs": [],
   "source": [
    "scaler = StandardScaler()\n",
    "scaler.fit(features_train[numerical])\n",
    "None"
   ]
  },
  {
   "cell_type": "code",
   "execution_count": 21,
   "metadata": {},
   "outputs": [
    {
     "data": {
      "text/html": [
       "<div>\n",
       "<style scoped>\n",
       "    .dataframe tbody tr th:only-of-type {\n",
       "        vertical-align: middle;\n",
       "    }\n",
       "\n",
       "    .dataframe tbody tr th {\n",
       "        vertical-align: top;\n",
       "    }\n",
       "\n",
       "    .dataframe thead th {\n",
       "        text-align: right;\n",
       "    }\n",
       "</style>\n",
       "<table border=\"1\" class=\"dataframe\">\n",
       "  <thead>\n",
       "    <tr style=\"text-align: right;\">\n",
       "      <th></th>\n",
       "      <th>CreditScore</th>\n",
       "      <th>Age</th>\n",
       "      <th>Tenure</th>\n",
       "      <th>Balance</th>\n",
       "      <th>NumOfProducts</th>\n",
       "      <th>HasCrCard</th>\n",
       "      <th>IsActiveMember</th>\n",
       "      <th>EstimatedSalary</th>\n",
       "      <th>Geography_Germany</th>\n",
       "      <th>Geography_Spain</th>\n",
       "      <th>Gender_Male</th>\n",
       "    </tr>\n",
       "  </thead>\n",
       "  <tbody>\n",
       "    <tr>\n",
       "      <th>7479</th>\n",
       "      <td>-0.886751</td>\n",
       "      <td>-0.373192</td>\n",
       "      <td>1.104696</td>\n",
       "      <td>1.232271</td>\n",
       "      <td>-0.891560</td>\n",
       "      <td>1</td>\n",
       "      <td>0</td>\n",
       "      <td>-0.187705</td>\n",
       "      <td>0</td>\n",
       "      <td>1</td>\n",
       "      <td>1</td>\n",
       "    </tr>\n",
       "    <tr>\n",
       "      <th>3411</th>\n",
       "      <td>0.608663</td>\n",
       "      <td>-0.183385</td>\n",
       "      <td>1.104696</td>\n",
       "      <td>0.600563</td>\n",
       "      <td>-0.891560</td>\n",
       "      <td>0</td>\n",
       "      <td>0</td>\n",
       "      <td>-0.333945</td>\n",
       "      <td>0</td>\n",
       "      <td>0</td>\n",
       "      <td>0</td>\n",
       "    </tr>\n",
       "    <tr>\n",
       "      <th>6027</th>\n",
       "      <td>2.052152</td>\n",
       "      <td>0.480939</td>\n",
       "      <td>-0.503694</td>\n",
       "      <td>1.027098</td>\n",
       "      <td>0.830152</td>\n",
       "      <td>0</td>\n",
       "      <td>1</td>\n",
       "      <td>1.503095</td>\n",
       "      <td>1</td>\n",
       "      <td>0</td>\n",
       "      <td>1</td>\n",
       "    </tr>\n",
       "    <tr>\n",
       "      <th>1247</th>\n",
       "      <td>-1.457915</td>\n",
       "      <td>-1.417129</td>\n",
       "      <td>0.461340</td>\n",
       "      <td>-1.233163</td>\n",
       "      <td>0.830152</td>\n",
       "      <td>1</td>\n",
       "      <td>0</td>\n",
       "      <td>-1.071061</td>\n",
       "      <td>0</td>\n",
       "      <td>0</td>\n",
       "      <td>1</td>\n",
       "    </tr>\n",
       "    <tr>\n",
       "      <th>3716</th>\n",
       "      <td>0.130961</td>\n",
       "      <td>-1.132419</td>\n",
       "      <td>-0.825373</td>\n",
       "      <td>1.140475</td>\n",
       "      <td>-0.891560</td>\n",
       "      <td>0</td>\n",
       "      <td>0</td>\n",
       "      <td>1.524268</td>\n",
       "      <td>1</td>\n",
       "      <td>0</td>\n",
       "      <td>0</td>\n",
       "    </tr>\n",
       "  </tbody>\n",
       "</table>\n",
       "</div>"
      ],
      "text/plain": [
       "      CreditScore       Age    Tenure   Balance  NumOfProducts  HasCrCard  \\\n",
       "7479    -0.886751 -0.373192  1.104696  1.232271      -0.891560          1   \n",
       "3411     0.608663 -0.183385  1.104696  0.600563      -0.891560          0   \n",
       "6027     2.052152  0.480939 -0.503694  1.027098       0.830152          0   \n",
       "1247    -1.457915 -1.417129  0.461340 -1.233163       0.830152          1   \n",
       "3716     0.130961 -1.132419 -0.825373  1.140475      -0.891560          0   \n",
       "\n",
       "      IsActiveMember  EstimatedSalary  Geography_Germany  Geography_Spain  \\\n",
       "7479               0        -0.187705                  0                1   \n",
       "3411               0        -0.333945                  0                0   \n",
       "6027               1         1.503095                  1                0   \n",
       "1247               0        -1.071061                  0                0   \n",
       "3716               0         1.524268                  1                0   \n",
       "\n",
       "      Gender_Male  \n",
       "7479            1  \n",
       "3411            0  \n",
       "6027            1  \n",
       "1247            1  \n",
       "3716            0  "
      ]
     },
     "execution_count": 21,
     "metadata": {},
     "output_type": "execute_result"
    }
   ],
   "source": [
    "features_train[numerical] = scaler.transform(features_train[numerical])\n",
    "features_train.head()"
   ]
  },
  {
   "cell_type": "code",
   "execution_count": 22,
   "metadata": {},
   "outputs": [
    {
     "data": {
      "text/html": [
       "<div>\n",
       "<style scoped>\n",
       "    .dataframe tbody tr th:only-of-type {\n",
       "        vertical-align: middle;\n",
       "    }\n",
       "\n",
       "    .dataframe tbody tr th {\n",
       "        vertical-align: top;\n",
       "    }\n",
       "\n",
       "    .dataframe thead th {\n",
       "        text-align: right;\n",
       "    }\n",
       "</style>\n",
       "<table border=\"1\" class=\"dataframe\">\n",
       "  <thead>\n",
       "    <tr style=\"text-align: right;\">\n",
       "      <th></th>\n",
       "      <th>CreditScore</th>\n",
       "      <th>Age</th>\n",
       "      <th>Tenure</th>\n",
       "      <th>Balance</th>\n",
       "      <th>NumOfProducts</th>\n",
       "      <th>HasCrCard</th>\n",
       "      <th>IsActiveMember</th>\n",
       "      <th>EstimatedSalary</th>\n",
       "      <th>Geography_Germany</th>\n",
       "      <th>Geography_Spain</th>\n",
       "      <th>Gender_Male</th>\n",
       "    </tr>\n",
       "  </thead>\n",
       "  <tbody>\n",
       "    <tr>\n",
       "      <th>8532</th>\n",
       "      <td>-0.699824</td>\n",
       "      <td>-0.373192</td>\n",
       "      <td>-0.825373</td>\n",
       "      <td>-1.233163</td>\n",
       "      <td>0.830152</td>\n",
       "      <td>1</td>\n",
       "      <td>0</td>\n",
       "      <td>-0.015173</td>\n",
       "      <td>0</td>\n",
       "      <td>0</td>\n",
       "      <td>0</td>\n",
       "    </tr>\n",
       "    <tr>\n",
       "      <th>5799</th>\n",
       "      <td>-0.284431</td>\n",
       "      <td>0.575842</td>\n",
       "      <td>-0.503694</td>\n",
       "      <td>-1.233163</td>\n",
       "      <td>-0.891560</td>\n",
       "      <td>1</td>\n",
       "      <td>1</td>\n",
       "      <td>1.471724</td>\n",
       "      <td>0</td>\n",
       "      <td>0</td>\n",
       "      <td>0</td>\n",
       "    </tr>\n",
       "    <tr>\n",
       "      <th>5511</th>\n",
       "      <td>0.151731</td>\n",
       "      <td>-0.657902</td>\n",
       "      <td>-1.468729</td>\n",
       "      <td>0.438711</td>\n",
       "      <td>-0.891560</td>\n",
       "      <td>1</td>\n",
       "      <td>0</td>\n",
       "      <td>-1.367107</td>\n",
       "      <td>1</td>\n",
       "      <td>0</td>\n",
       "      <td>1</td>\n",
       "    </tr>\n",
       "    <tr>\n",
       "      <th>7365</th>\n",
       "      <td>-0.876366</td>\n",
       "      <td>-0.278288</td>\n",
       "      <td>1.748053</td>\n",
       "      <td>1.239884</td>\n",
       "      <td>-0.891560</td>\n",
       "      <td>1</td>\n",
       "      <td>1</td>\n",
       "      <td>-0.786517</td>\n",
       "      <td>0</td>\n",
       "      <td>1</td>\n",
       "      <td>0</td>\n",
       "    </tr>\n",
       "    <tr>\n",
       "      <th>7367</th>\n",
       "      <td>-0.481743</td>\n",
       "      <td>0.291132</td>\n",
       "      <td>1.748053</td>\n",
       "      <td>-1.233163</td>\n",
       "      <td>0.830152</td>\n",
       "      <td>1</td>\n",
       "      <td>0</td>\n",
       "      <td>1.358533</td>\n",
       "      <td>0</td>\n",
       "      <td>1</td>\n",
       "      <td>1</td>\n",
       "    </tr>\n",
       "  </tbody>\n",
       "</table>\n",
       "</div>"
      ],
      "text/plain": [
       "      CreditScore       Age    Tenure   Balance  NumOfProducts  HasCrCard  \\\n",
       "8532    -0.699824 -0.373192 -0.825373 -1.233163       0.830152          1   \n",
       "5799    -0.284431  0.575842 -0.503694 -1.233163      -0.891560          1   \n",
       "5511     0.151731 -0.657902 -1.468729  0.438711      -0.891560          1   \n",
       "7365    -0.876366 -0.278288  1.748053  1.239884      -0.891560          1   \n",
       "7367    -0.481743  0.291132  1.748053 -1.233163       0.830152          1   \n",
       "\n",
       "      IsActiveMember  EstimatedSalary  Geography_Germany  Geography_Spain  \\\n",
       "8532               0        -0.015173                  0                0   \n",
       "5799               1         1.471724                  0                0   \n",
       "5511               0        -1.367107                  1                0   \n",
       "7365               1        -0.786517                  0                1   \n",
       "7367               0         1.358533                  0                1   \n",
       "\n",
       "      Gender_Male  \n",
       "8532            0  \n",
       "5799            0  \n",
       "5511            1  \n",
       "7365            0  \n",
       "7367            1  "
      ]
     },
     "execution_count": 22,
     "metadata": {},
     "output_type": "execute_result"
    }
   ],
   "source": [
    "features_valid[numerical] = scaler.transform(features_valid[numerical])\n",
    "features_valid.head()"
   ]
  },
  {
   "cell_type": "code",
   "execution_count": 23,
   "metadata": {},
   "outputs": [
    {
     "data": {
      "text/html": [
       "<div>\n",
       "<style scoped>\n",
       "    .dataframe tbody tr th:only-of-type {\n",
       "        vertical-align: middle;\n",
       "    }\n",
       "\n",
       "    .dataframe tbody tr th {\n",
       "        vertical-align: top;\n",
       "    }\n",
       "\n",
       "    .dataframe thead th {\n",
       "        text-align: right;\n",
       "    }\n",
       "</style>\n",
       "<table border=\"1\" class=\"dataframe\">\n",
       "  <thead>\n",
       "    <tr style=\"text-align: right;\">\n",
       "      <th></th>\n",
       "      <th>CreditScore</th>\n",
       "      <th>Age</th>\n",
       "      <th>Tenure</th>\n",
       "      <th>Balance</th>\n",
       "      <th>NumOfProducts</th>\n",
       "      <th>HasCrCard</th>\n",
       "      <th>IsActiveMember</th>\n",
       "      <th>EstimatedSalary</th>\n",
       "      <th>Geography_Germany</th>\n",
       "      <th>Geography_Spain</th>\n",
       "      <th>Gender_Male</th>\n",
       "    </tr>\n",
       "  </thead>\n",
       "  <tbody>\n",
       "    <tr>\n",
       "      <th>7041</th>\n",
       "      <td>-2.226392</td>\n",
       "      <td>-0.088482</td>\n",
       "      <td>-0.825373</td>\n",
       "      <td>-1.233163</td>\n",
       "      <td>0.830152</td>\n",
       "      <td>1</td>\n",
       "      <td>0</td>\n",
       "      <td>0.647083</td>\n",
       "      <td>0</td>\n",
       "      <td>0</td>\n",
       "      <td>1</td>\n",
       "    </tr>\n",
       "    <tr>\n",
       "      <th>5709</th>\n",
       "      <td>-0.087120</td>\n",
       "      <td>0.006422</td>\n",
       "      <td>1.426375</td>\n",
       "      <td>-1.233163</td>\n",
       "      <td>-0.891560</td>\n",
       "      <td>1</td>\n",
       "      <td>0</td>\n",
       "      <td>-1.658410</td>\n",
       "      <td>0</td>\n",
       "      <td>0</td>\n",
       "      <td>0</td>\n",
       "    </tr>\n",
       "    <tr>\n",
       "      <th>7117</th>\n",
       "      <td>-0.917905</td>\n",
       "      <td>-0.752805</td>\n",
       "      <td>0.139662</td>\n",
       "      <td>0.722307</td>\n",
       "      <td>-0.891560</td>\n",
       "      <td>1</td>\n",
       "      <td>1</td>\n",
       "      <td>-1.369334</td>\n",
       "      <td>0</td>\n",
       "      <td>1</td>\n",
       "      <td>1</td>\n",
       "    </tr>\n",
       "    <tr>\n",
       "      <th>7775</th>\n",
       "      <td>-0.253277</td>\n",
       "      <td>0.101325</td>\n",
       "      <td>1.748053</td>\n",
       "      <td>-1.233163</td>\n",
       "      <td>0.830152</td>\n",
       "      <td>1</td>\n",
       "      <td>0</td>\n",
       "      <td>0.075086</td>\n",
       "      <td>0</td>\n",
       "      <td>1</td>\n",
       "      <td>1</td>\n",
       "    </tr>\n",
       "    <tr>\n",
       "      <th>8735</th>\n",
       "      <td>0.785204</td>\n",
       "      <td>-0.847708</td>\n",
       "      <td>1.748053</td>\n",
       "      <td>0.615625</td>\n",
       "      <td>-0.891560</td>\n",
       "      <td>0</td>\n",
       "      <td>1</td>\n",
       "      <td>-1.070919</td>\n",
       "      <td>0</td>\n",
       "      <td>0</td>\n",
       "      <td>1</td>\n",
       "    </tr>\n",
       "  </tbody>\n",
       "</table>\n",
       "</div>"
      ],
      "text/plain": [
       "      CreditScore       Age    Tenure   Balance  NumOfProducts  HasCrCard  \\\n",
       "7041    -2.226392 -0.088482 -0.825373 -1.233163       0.830152          1   \n",
       "5709    -0.087120  0.006422  1.426375 -1.233163      -0.891560          1   \n",
       "7117    -0.917905 -0.752805  0.139662  0.722307      -0.891560          1   \n",
       "7775    -0.253277  0.101325  1.748053 -1.233163       0.830152          1   \n",
       "8735     0.785204 -0.847708  1.748053  0.615625      -0.891560          0   \n",
       "\n",
       "      IsActiveMember  EstimatedSalary  Geography_Germany  Geography_Spain  \\\n",
       "7041               0         0.647083                  0                0   \n",
       "5709               0        -1.658410                  0                0   \n",
       "7117               1        -1.369334                  0                1   \n",
       "7775               0         0.075086                  0                1   \n",
       "8735               1        -1.070919                  0                0   \n",
       "\n",
       "      Gender_Male  \n",
       "7041            1  \n",
       "5709            0  \n",
       "7117            1  \n",
       "7775            1  \n",
       "8735            1  "
      ]
     },
     "execution_count": 23,
     "metadata": {},
     "output_type": "execute_result"
    }
   ],
   "source": [
    "features_test[numerical] = scaler.transform(features_test[numerical])\n",
    "features_test.head()"
   ]
  },
  {
   "cell_type": "markdown",
   "metadata": {},
   "source": [
    "### Проверим наличие дисбаланса"
   ]
  },
  {
   "cell_type": "code",
   "execution_count": 24,
   "metadata": {},
   "outputs": [
    {
     "name": "stdout",
     "output_type": "stream",
     "text": [
      "0    0.7963\n",
      "1    0.2037\n",
      "Name: Exited, dtype: float64\n"
     ]
    },
    {
     "data": {
      "image/png": "[encoded data removed]",
      "text/plain": [
       "<Figure size 432x288 with 1 Axes>"
      ]
     },
     "metadata": {
      "needs_background": "light"
     },
     "output_type": "display_data"
    }
   ],
   "source": [
    "quantity = data['Exited'].value_counts(normalize=1)\n",
    "print(quantity)\n",
    "quantity.plot(kind='bar')\n",
    "None"
   ]
  },
  {
   "cell_type": "markdown",
   "metadata": {},
   "source": [
    "В целевом признаке очевиден сильный **дисбаланс**, отрицательных ответов почти 80% , а положитительных чуть больше 20%."
   ]
  },
  {
   "cell_type": "markdown",
   "metadata": {},
   "source": [
    "### Обучение моделей до борьбы с дисбалансом "
   ]
  },
  {
   "cell_type": "markdown",
   "metadata": {},
   "source": [
    "**`DecisionTreeClassifier` - это структура данных для классификации деревом решений.**"
   ]
  },
  {
   "cell_type": "code",
   "execution_count": 25,
   "metadata": {},
   "outputs": [
    {
     "name": "stdout",
     "output_type": "stream",
     "text": [
      "Качество лучшей модели: 0.5786516853932585 с гиперпараметром max_depth: = 9\n"
     ]
    }
   ],
   "source": [
    "best_model_DecisionTreeClassifier = None\n",
    "best_result_DecisionTreeClassifier = 0\n",
    "for depth in range(1, 11):\n",
    "    model_DecisionTreeClassifier = DecisionTreeClassifier(random_state=12345, max_depth=depth)\n",
    "    model_DecisionTreeClassifier.fit(features_train, target_train) \n",
    "    predictions_DecisionTreeClassifier = model_DecisionTreeClassifier.predict(features_valid) \n",
    "    result_DecisionTreeClassifier = f1_score(target_valid, predictions_DecisionTreeClassifier) \n",
    "    if result_DecisionTreeClassifier > best_result_DecisionTreeClassifier:\n",
    "        best_model_DecisionTreeClassifier = model_DecisionTreeClassifier\n",
    "        best_result_DecisionTreeClassifier = result_DecisionTreeClassifier\n",
    "        best_decisiontreeclassifier_depth = depth\n",
    "        \n",
    "print(\"Качество лучшей модели:\", best_result_DecisionTreeClassifier, \"с гиперпараметром max_depth: =\",best_decisiontreeclassifier_depth)"
   ]
  },
  {
   "cell_type": "markdown",
   "metadata": {},
   "source": [
    "**Обучим модель с оптимальными значениями гиперпараметров:**"
   ]
  },
  {
   "cell_type": "code",
   "execution_count": 26,
   "metadata": {},
   "outputs": [],
   "source": [
    "model_DecisionTreeClassifier = DecisionTreeClassifier(random_state=12345,\n",
    "                                    max_depth=9)\n",
    "model_DecisionTreeClassifier.fit(features_train, target_train)\n",
    "predictions_DecisionTreeClassifier_valid = model_DecisionTreeClassifier.predict(features_valid)"
   ]
  },
  {
   "cell_type": "code",
   "execution_count": 27,
   "metadata": {},
   "outputs": [
    {
     "name": "stdout",
     "output_type": "stream",
     "text": [
      "Accuracy_DecisionTreeClassifier: 0.85\n",
      "Recall_DecisionTreeClassifier: 0.49282296650717705\n",
      "Precision_DecisionTreeClassifier: 0.7006802721088435\n",
      "F1_DecisionTreeClassifier: 0.5786516853932585\n"
     ]
    }
   ],
   "source": [
    "print(\"Accuracy_DecisionTreeClassifier:\", accuracy_score(target_valid, predictions_DecisionTreeClassifier_valid))\n",
    "print(\"Recall_DecisionTreeClassifier:\", recall_score(target_valid, predictions_DecisionTreeClassifier_valid))\n",
    "print(\"Precision_DecisionTreeClassifier:\", precision_score(target_valid, predictions_DecisionTreeClassifier_valid))\n",
    "print(\"F1_DecisionTreeClassifier:\", f1_score(target_valid, predictions_DecisionTreeClassifier_valid))"
   ]
  },
  {
   "cell_type": "markdown",
   "metadata": {},
   "source": [
    "**`RandomForestClassifier`**\n",
    "\n",
    "**Ещё один из алгоритмов классификации - случайный лес (random forest). Алгоритм обучает большое количество независимых друг от друга деревьев, а потом принимает решение на основе голосования. Случайный лес помогает улучшить результат предсказания и избежать переобучения.**"
   ]
  },
  {
   "cell_type": "code",
   "execution_count": 28,
   "metadata": {},
   "outputs": [
    {
     "name": "stdout",
     "output_type": "stream",
     "text": [
      "Качество наилучшей модели: 0.5800604229607251 с гиперпараметром max_depth: = 9 и с n_estimators:= 10\n"
     ]
    }
   ],
   "source": [
    "best_model_RandomForestClassifier = None\n",
    "best_result_RandomForestClassifier = 0  \n",
    "best_n_estimators = 0\n",
    "best_depth = 0\n",
    "for est in range(10, 101, 5):\n",
    "    for depth in range(1, 10):\n",
    "        model_RandomForestClassifier = RandomForestClassifier(random_state=12345,\n",
    "                                                             n_estimators=est, \n",
    "                                                             max_depth=depth)\n",
    "        model_RandomForestClassifier.fit(features_train, target_train)\n",
    "        predictions_RandomForestClassifier = model_RandomForestClassifier.predict(features_valid)\n",
    "        result_randomforestclassifier = f1_score(target_valid, predictions_RandomForestClassifier)\n",
    "        if result_randomforestclassifier > best_result_RandomForestClassifier:\n",
    "            best_model_RandomForestClassifier = model_RandomForestClassifier\n",
    "            best_result_RandomForestClassifier = result_randomforestclassifier \n",
    "            best_n_estimators = est\n",
    "            best_depth = depth\n",
    "\n",
    "print(\"Качество наилучшей модели:\", best_result_RandomForestClassifier,  \"с гиперпараметром max_depth: =\",best_depth, \"и с n_estimators:=\", \n",
    "     best_n_estimators)"
   ]
  },
  {
   "cell_type": "markdown",
   "metadata": {},
   "source": [
    "**Обучим модель с оптимальными значениями гиперпараметров:**"
   ]
  },
  {
   "cell_type": "code",
   "execution_count": 29,
   "metadata": {},
   "outputs": [],
   "source": [
    "model_RandomForestClassifier = RandomForestClassifier(random_state=12345, \n",
    "                                      n_estimators=10, \n",
    "                                      max_depth=9)\n",
    "model_RandomForestClassifier.fit(features_train, target_train)\n",
    "predictions_model_RandomForestClassifier = model_RandomForestClassifier.predict(features_valid)"
   ]
  },
  {
   "cell_type": "code",
   "execution_count": 30,
   "metadata": {},
   "outputs": [
    {
     "name": "stdout",
     "output_type": "stream",
     "text": [
      "Accuracy_RandomForestClassifier: 0.861\n",
      "Recall_RandomForestClassifier: 0.45933014354066987\n",
      "Precision_RandomForestClassifier: 0.7868852459016393\n",
      "F1_RandomForestClassifier: 0.5800604229607251\n"
     ]
    }
   ],
   "source": [
    "print(\"Accuracy_RandomForestClassifier:\", accuracy_score(target_valid, predictions_model_RandomForestClassifier))\n",
    "print(\"Recall_RandomForestClassifier:\", recall_score(target_valid, predictions_model_RandomForestClassifier))\n",
    "print(\"Precision_RandomForestClassifier:\", precision_score(target_valid, predictions_model_RandomForestClassifier))\n",
    "print(\"F1_RandomForestClassifier:\", f1_score(target_valid, predictions_model_RandomForestClassifier))"
   ]
  },
  {
   "cell_type": "markdown",
   "metadata": {},
   "source": [
    "**`LogisticRegression`**\n",
    "\n",
    "**Ещё один алгоритм машинного обучения - логистическая регрессия.\n",
    "В логистической регрессии параметров мало. Что-либо вызубрить по признакам в формуле не выйдет, поэтому и вероятность переобучения невелика.**"
   ]
  },
  {
   "cell_type": "code",
   "execution_count": 31,
   "metadata": {},
   "outputs": [
    {
     "name": "stdout",
     "output_type": "stream",
     "text": [
      "Качество модели: 0.33389544688026984\n"
     ]
    }
   ],
   "source": [
    "model_logisticregression = LogisticRegression(random_state=12345, solver='liblinear')\n",
    "model_logisticregression.fit(features_train, target_train) \n",
    "predictions_logisticregression = model_logisticregression.predict(features_valid) \n",
    "result_logisticregression = f1_score(predictions_logisticregression, target_valid) \n",
    "        \n",
    "print(\"Качество модели:\", result_logisticregression)"
   ]
  },
  {
   "cell_type": "code",
   "execution_count": 32,
   "metadata": {},
   "outputs": [
    {
     "name": "stdout",
     "output_type": "stream",
     "text": [
      "Accuracy_logisticregression: 0.8025\n",
      "Recall_logisticregression: 0.23684210526315788\n",
      "Precision_logisticregression: 0.5657142857142857\n",
      "F1_logisticregression: 0.33389544688026984\n"
     ]
    }
   ],
   "source": [
    "print(\"Accuracy_logisticregression:\", accuracy_score(target_valid, predictions_logisticregression))\n",
    "print(\"Recall_logisticregression:\", recall_score(target_valid, predictions_logisticregression))\n",
    "print(\"Precision_logisticregression:\", precision_score(target_valid, predictions_logisticregression))\n",
    "print(\"F1_logisticregression:\", f1_score(target_valid, predictions_logisticregression))"
   ]
  },
  {
   "cell_type": "markdown",
   "metadata": {},
   "source": [
    "**Приведем оценки моделей по качеству - F1-score:**"
   ]
  },
  {
   "cell_type": "markdown",
   "metadata": {},
   "source": [
    "**`DecisionTreeClassifier`**"
   ]
  },
  {
   "cell_type": "markdown",
   "metadata": {},
   "source": [
    "Качество модели = 0.578"
   ]
  },
  {
   "cell_type": "markdown",
   "metadata": {},
   "source": [
    "**`RandomForestClassifier`**"
   ]
  },
  {
   "cell_type": "markdown",
   "metadata": {},
   "source": [
    "Качество модели = 0.580"
   ]
  },
  {
   "cell_type": "markdown",
   "metadata": {},
   "source": [
    "**`LogisticRegression`**"
   ]
  },
  {
   "cell_type": "markdown",
   "metadata": {},
   "source": [
    "Качество модели = 0.333"
   ]
  },
  {
   "cell_type": "markdown",
   "metadata": {},
   "source": [
    "После обучения моделей без учета дисбаланса классов, можем сделать вывод, что наилучшее значение метрики F1-score показывает модель **`RandomForestClassifier`**."
   ]
  },
  {
   "cell_type": "markdown",
   "metadata": {},
   "source": [
    "**Теперь посмотрим, как выглядит дисбаланс классов для 3 наших обученных моделей, для этого построим матрицы ошибок:**"
   ]
  },
  {
   "cell_type": "code",
   "execution_count": 33,
   "metadata": {},
   "outputs": [
    {
     "data": {
      "image/png": "[encoded data removed]",
      "text/plain": [
       "<Figure size 432x288 with 2 Axes>"
      ]
     },
     "metadata": {
      "needs_background": "light"
     },
     "output_type": "display_data"
    }
   ],
   "source": [
    "plot_confusion_matrix(estimator=model_DecisionTreeClassifier, X=features_valid, y_true=target_valid,\n",
    "                      normalize='true', cmap='Greens')\n",
    "None"
   ]
  },
  {
   "cell_type": "code",
   "execution_count": 34,
   "metadata": {},
   "outputs": [
    {
     "data": {
      "image/png": "[encoded data removed]",
      "text/plain": [
       "<Figure size 432x288 with 2 Axes>"
      ]
     },
     "metadata": {
      "needs_background": "light"
     },
     "output_type": "display_data"
    }
   ],
   "source": [
    "plot_confusion_matrix(estimator=model_RandomForestClassifier, X=features_valid, y_true=target_valid,\n",
    "                      normalize='true', cmap='Greens')\n",
    "None"
   ]
  },
  {
   "cell_type": "code",
   "execution_count": 35,
   "metadata": {},
   "outputs": [
    {
     "data": {
      "image/png": "[encoded data removed]",
      "text/plain": [
       "<Figure size 432x288 with 2 Axes>"
      ]
     },
     "metadata": {
      "needs_background": "light"
     },
     "output_type": "display_data"
    }
   ],
   "source": [
    "plot_confusion_matrix(estimator=model_logisticregression, X=features_valid, y_true=target_valid,\n",
    "                      normalize='true', cmap='Greens')\n",
    "None"
   ]
  },
  {
   "cell_type": "markdown",
   "metadata": {},
   "source": [
    "Матрицы ошибок нам показывают, что для всех трех наших моделей наблюдается сильный дисбаланс классов."
   ]
  },
  {
   "cell_type": "markdown",
   "metadata": {},
   "source": [
    "## Борьба с дисбалансом"
   ]
  },
  {
   "cell_type": "markdown",
   "metadata": {},
   "source": [
    "Будем использовать 3 метода для борьбы с дисбалансом : \n",
    "\n",
    "- Взвешивание классов\n",
    "- Увеличение выборки (upsampling)\n",
    "- Уменьшение выборки (downsampling)"
   ]
  },
  {
   "cell_type": "markdown",
   "metadata": {},
   "source": [
    "### Взвешивание классов"
   ]
  },
  {
   "cell_type": "markdown",
   "metadata": {},
   "source": [
    "`DecisionTreeClassifier`"
   ]
  },
  {
   "cell_type": "code",
   "execution_count": 36,
   "metadata": {},
   "outputs": [
    {
     "name": "stdout",
     "output_type": "stream",
     "text": [
      "Качество лучшей модели: 0.5963791267305644 с гиперпараметром max_depth: = 5\n"
     ]
    }
   ],
   "source": [
    "best_model_DecisionTreeClassifier = None\n",
    "best_result_DecisionTreeClassifier = 0\n",
    "for depth in range(1, 11):\n",
    "    model_DecisionTreeClassifier = DecisionTreeClassifier(random_state=12345, max_depth=depth, class_weight='balanced')\n",
    "    model_DecisionTreeClassifier.fit(features_train, target_train) \n",
    "    predictions_DecisionTreeClassifier = model_DecisionTreeClassifier.predict(features_valid) \n",
    "    result_DecisionTreeClassifier = f1_score(target_valid, predictions_DecisionTreeClassifier) \n",
    "    if result_DecisionTreeClassifier > best_result_DecisionTreeClassifier:\n",
    "        best_model_DecisionTreeClassifier = model_DecisionTreeClassifier\n",
    "        best_result_DecisionTreeClassifier = result_DecisionTreeClassifier\n",
    "        best_decisiontreeclassifier_depth = depth\n",
    "        \n",
    "print(\"Качество лучшей модели:\", best_result_DecisionTreeClassifier, \"с гиперпараметром max_depth: =\",best_decisiontreeclassifier_depth)"
   ]
  },
  {
   "cell_type": "markdown",
   "metadata": {},
   "source": [
    "**Обучим модель с оптимальными значениями гиперпараметров:**"
   ]
  },
  {
   "cell_type": "code",
   "execution_count": 37,
   "metadata": {},
   "outputs": [],
   "source": [
    "model_DecisionTreeClassifier = DecisionTreeClassifier(random_state=12345,\n",
    "                                    max_depth=5, class_weight='balanced')\n",
    "model_DecisionTreeClassifier.fit(features_train, target_train)\n",
    "predictions_DecisionTreeClassifier_valid = model_DecisionTreeClassifier.predict(features_valid)"
   ]
  },
  {
   "cell_type": "code",
   "execution_count": 38,
   "metadata": {},
   "outputs": [
    {
     "name": "stdout",
     "output_type": "stream",
     "text": [
      "Recall_DecisionTreeClassifier: 0.6411483253588517\n",
      "Precision_DecisionTreeClassifier: 0.432258064516129\n",
      "F1_DecisionTreeClassifier: 0.5163776493256262\n",
      "ROC-AUC_DecisionTreeClassifier: 0.8310244134068074\n"
     ]
    }
   ],
   "source": [
    "print(\"Recall_DecisionTreeClassifier:\", recall_score(target_valid, predictions_DecisionTreeClassifier))\n",
    "print(\"Precision_DecisionTreeClassifier:\", precision_score(target_valid, predictions_DecisionTreeClassifier))\n",
    "print(\"F1_DecisionTreeClassifier:\", f1_score(target_valid, predictions_DecisionTreeClassifier))\n",
    "\n",
    "probabilities = model_DecisionTreeClassifier.predict_proba(features_valid)\n",
    "probabilities_one = probabilities[:, 1]\n",
    "print(\"ROC-AUC_DecisionTreeClassifier:\", roc_auc_score(target_valid, probabilities_one))"
   ]
  },
  {
   "cell_type": "markdown",
   "metadata": {},
   "source": [
    "`RandomForestClassifier`"
   ]
  },
  {
   "cell_type": "code",
   "execution_count": 39,
   "metadata": {},
   "outputs": [
    {
     "name": "stdout",
     "output_type": "stream",
     "text": [
      "Качество наилучшей модели: 0.631236442516269 с гиперпараметром max_depth: = 8 и с n_estimators:= 50\n"
     ]
    }
   ],
   "source": [
    "best_model_RandomForestClassifier = None\n",
    "best_result_RandomForestClassifier = 0  \n",
    "best_n_estimators = 0\n",
    "best_depth = 0\n",
    "for est in range(10, 101, 5):\n",
    "    for depth in range(1, 10):\n",
    "        model_RandomForestClassifier = RandomForestClassifier(random_state=12345,\n",
    "                                                             n_estimators=est, \n",
    "                                                             max_depth=depth, class_weight='balanced')\n",
    "        model_RandomForestClassifier.fit(features_train, target_train)\n",
    "        predictions_RandomForestClassifier = model_RandomForestClassifier.predict(features_valid)\n",
    "        result_randomforestclassifier = f1_score(target_valid, predictions_RandomForestClassifier)\n",
    "        if result_randomforestclassifier > best_result_RandomForestClassifier:\n",
    "            best_model_RandomForestClassifier = model_RandomForestClassifier\n",
    "            best_result_RandomForestClassifier = result_randomforestclassifier \n",
    "            best_n_estimators = est\n",
    "            best_depth = depth\n",
    "\n",
    "print(\"Качество наилучшей модели:\", best_result_RandomForestClassifier,  \"с гиперпараметром max_depth: =\",best_depth, \"и с n_estimators:=\", \n",
    "     best_n_estimators)"
   ]
  },
  {
   "cell_type": "markdown",
   "metadata": {},
   "source": [
    "**Обучим модель с оптимальными значениями гиперпараметров:**"
   ]
  },
  {
   "cell_type": "code",
   "execution_count": 40,
   "metadata": {},
   "outputs": [],
   "source": [
    "model_RandomForestClassifier = RandomForestClassifier(random_state=12345, \n",
    "                                      n_estimators=50, \n",
    "                                      max_depth=8, class_weight='balanced')\n",
    "model_RandomForestClassifier.fit(features_train, target_train)\n",
    "predictions_model_RandomForestClassifier = model_RandomForestClassifier.predict(features_valid)"
   ]
  },
  {
   "cell_type": "code",
   "execution_count": 41,
   "metadata": {},
   "outputs": [
    {
     "name": "stdout",
     "output_type": "stream",
     "text": [
      "Recall_RandomForestClassifier: 0.6961722488038278\n",
      "Precision_RandomForestClassifier: 0.5773809523809523\n",
      "F1_RandomForestClassifier: 0.631236442516269\n",
      "ROC-AUC_RandomForestClassifier: 0.8544722627163244\n"
     ]
    }
   ],
   "source": [
    "print(\"Recall_RandomForestClassifier:\", recall_score(target_valid, predictions_model_RandomForestClassifier))\n",
    "print(\"Precision_RandomForestClassifier:\", precision_score(target_valid, predictions_model_RandomForestClassifier))\n",
    "print(\"F1_RandomForestClassifier:\", f1_score(target_valid, predictions_model_RandomForestClassifier))\n",
    "\n",
    "probabilities = model_RandomForestClassifier.predict_proba(features_valid)\n",
    "probabilities_one = probabilities[:, 1]\n",
    "print(\"ROC-AUC_RandomForestClassifier:\", roc_auc_score(target_valid, probabilities_one))"
   ]
  },
  {
   "cell_type": "markdown",
   "metadata": {},
   "source": [
    "`LogisticRegression`"
   ]
  },
  {
   "cell_type": "code",
   "execution_count": 42,
   "metadata": {},
   "outputs": [],
   "source": [
    "model_logisticregression = LogisticRegression(random_state=12345, solver='liblinear', class_weight='balanced')\n",
    "model_logisticregression.fit(features_train, target_train) \n",
    "predictions_logisticregression = model_logisticregression.predict(features_valid) "
   ]
  },
  {
   "cell_type": "code",
   "execution_count": 43,
   "metadata": {},
   "outputs": [
    {
     "name": "stdout",
     "output_type": "stream",
     "text": [
      "Recall_logisticregression: 0.6842105263157895\n",
      "Precision_logisticregression: 0.3803191489361702\n",
      "F1_logisticregression: 0.4888888888888888\n",
      "ROC-AUC_logisticregression: 0.8544722627163244\n"
     ]
    }
   ],
   "source": [
    "print(\"Recall_logisticregression:\", recall_score(target_valid, predictions_logisticregression))\n",
    "print(\"Precision_logisticregression:\", precision_score(target_valid, predictions_logisticregression))\n",
    "print(\"F1_logisticregression:\", f1_score(target_valid, predictions_logisticregression))\n",
    "\n",
    "probabilities = model_RandomForestClassifier.predict_proba(features_valid)\n",
    "probabilities_one = probabilities[:, 1]\n",
    "print(\"ROC-AUC_logisticregression:\", roc_auc_score(target_valid, probabilities_one))"
   ]
  },
  {
   "cell_type": "markdown",
   "metadata": {},
   "source": [
    "### Увеличение выборки (upsampling)"
   ]
  },
  {
   "cell_type": "markdown",
   "metadata": {},
   "source": [
    "Upsampling\n",
    "\n",
    "\n",
    "Техника балансирования классов, которая заключается в увеличении числа объектов меньшего класса путём многократного копирования объектов меньшего класса"
   ]
  },
  {
   "cell_type": "code",
   "execution_count": 44,
   "metadata": {},
   "outputs": [
    {
     "name": "stdout",
     "output_type": "stream",
     "text": [
      "(9588, 11)\n",
      "(9588,)\n"
     ]
    }
   ],
   "source": [
    "# Увеличиваем выборку в 4 раза, так как отрицательный класс превышает положительный в 4 раза\n",
    "def upsample(features, target, repeat):\n",
    "    features_zeros = features[target == 0]\n",
    "    features_ones = features[target == 1]\n",
    "    target_zeros = target[target == 0]\n",
    "    target_ones = target[target == 1]\n",
    "    \n",
    "    # Соединяем \n",
    "    features_upsampled = pd.concat([features_zeros] + [features_ones] * repeat)\n",
    "    target_upsampled = pd.concat([target_zeros] + [target_ones] * repeat)\n",
    "    \n",
    "    # Перемешиваем объекты\n",
    "    features_upsampled = shuffle(features_upsampled, random_state=12345)\n",
    "    target_upsampled = shuffle(target_upsampled, random_state=12345)\n",
    "    return features_upsampled, target_upsampled\n",
    "\n",
    "features_upsampled, target_upsampled = upsample(features_train, target_train, 4)\n",
    "\n",
    "print(features_upsampled.shape)\n",
    "print(target_upsampled.shape)"
   ]
  },
  {
   "cell_type": "code",
   "execution_count": 69,
   "metadata": {},
   "outputs": [
    {
     "data": {
      "image/png": "[encoded data removed]",
      "text/plain": [
       "<Figure size 576x432 with 1 Axes>"
      ]
     },
     "metadata": {
      "needs_background": "light"
     },
     "output_type": "display_data"
    }
   ],
   "source": [
    "# Создаем датафрейм из целевой переменной target_upsampled\n",
    "df_upsampled = pd.DataFrame({'Target': target_upsampled})\n",
    "\n",
    "# Группируем объекты по классам\n",
    "class_counts = df_upsampled['Target'].value_counts()\n",
    "\n",
    "# Создаем барплот\n",
    "plt.figure(figsize=(8, 6))\n",
    "plt.bar(class_counts.index, class_counts.values)\n",
    "plt.xticks(class_counts.index, ['Negative Class', 'Positive Class'])\n",
    "plt.xlabel('Class')\n",
    "plt.ylabel('Count')\n",
    "plt.title('Class Distribution After Upsampling')\n",
    "plt.show()"
   ]
  },
  {
   "cell_type": "markdown",
   "metadata": {},
   "source": [
    "`DecisionTreeClassifier`"
   ]
  },
  {
   "cell_type": "code",
   "execution_count": 45,
   "metadata": {},
   "outputs": [
    {
     "name": "stdout",
     "output_type": "stream",
     "text": [
      "Качество лучшей модели: 0.5963791267305644 с гиперпараметром max_depth: = 5\n"
     ]
    }
   ],
   "source": [
    "best_model_DecisionTreeClassifier = None\n",
    "best_result_DecisionTreeClassifier = 0\n",
    "for depth in range(1, 11):\n",
    "    model_DecisionTreeClassifier = DecisionTreeClassifier(random_state=12345, max_depth=depth)\n",
    "    model_DecisionTreeClassifier.fit(features_upsampled, target_upsampled) \n",
    "    predictions_DecisionTreeClassifier = model_DecisionTreeClassifier.predict(features_valid) \n",
    "    result_DecisionTreeClassifier = f1_score(target_valid, predictions_DecisionTreeClassifier) \n",
    "    if result_DecisionTreeClassifier > best_result_DecisionTreeClassifier:\n",
    "        best_model_DecisionTreeClassifier = model_DecisionTreeClassifier\n",
    "        best_result_DecisionTreeClassifier = result_DecisionTreeClassifier\n",
    "        best_decisiontreeclassifier_depth = depth\n",
    "        \n",
    "print(\"Качество лучшей модели:\", best_result_DecisionTreeClassifier, \"с гиперпараметром max_depth: =\",best_decisiontreeclassifier_depth)"
   ]
  },
  {
   "cell_type": "code",
   "execution_count": 46,
   "metadata": {},
   "outputs": [
    {
     "name": "stdout",
     "output_type": "stream",
     "text": [
      "Recall_DecisionTreeClassifier: 0.6435406698564593\n",
      "Precision_DecisionTreeClassifier: 0.4395424836601307\n",
      "F1_DecisionTreeClassifier: 0.5223300970873788\n",
      "ROC-AUC_DecisionTreeClassifier: 0.8310244134068074\n"
     ]
    }
   ],
   "source": [
    "model_DecisionTreeClassifier = DecisionTreeClassifier(random_state=12345,\n",
    "                                    max_depth=5)\n",
    "model_DecisionTreeClassifier.fit(features_upsampled, target_upsampled) \n",
    "predictions_DecisionTreeClassifier_valid = model_DecisionTreeClassifier.predict(features_valid)\n",
    "\n",
    "print(\"Recall_DecisionTreeClassifier:\", recall_score(target_valid, predictions_DecisionTreeClassifier))\n",
    "print(\"Precision_DecisionTreeClassifier:\", precision_score(target_valid, predictions_DecisionTreeClassifier))\n",
    "print(\"F1_DecisionTreeClassifier:\", f1_score(target_valid, predictions_DecisionTreeClassifier))\n",
    "\n",
    "probabilities = model_DecisionTreeClassifier.predict_proba(features_valid)\n",
    "probabilities_one = probabilities[:, 1]\n",
    "print(\"ROC-AUC_DecisionTreeClassifier:\", roc_auc_score(target_valid, probabilities_one))"
   ]
  },
  {
   "cell_type": "markdown",
   "metadata": {},
   "source": [
    "`RandomForestClassifier`"
   ]
  },
  {
   "cell_type": "code",
   "execution_count": 47,
   "metadata": {},
   "outputs": [
    {
     "name": "stdout",
     "output_type": "stream",
     "text": [
      "Качество наилучшей модели: 0.6255060728744939 с гиперпараметром max_depth: = 7 и с n_estimators:= 20\n"
     ]
    }
   ],
   "source": [
    "best_model_RandomForestClassifier = None\n",
    "best_result_RandomForestClassifier = 0  \n",
    "best_n_estimators = 0\n",
    "best_depth = 0\n",
    "for est in range(10, 101, 5):\n",
    "    for depth in range(1, 10):\n",
    "        model_RandomForestClassifier = RandomForestClassifier(random_state=12345,\n",
    "                                                             n_estimators=est, \n",
    "                                                             max_depth=depth)\n",
    "        model_RandomForestClassifier.fit(features_upsampled, target_upsampled)\n",
    "        predictions_RandomForestClassifier = model_RandomForestClassifier.predict(features_valid)\n",
    "        result_randomforestclassifier = f1_score(target_valid, predictions_RandomForestClassifier)\n",
    "        if result_randomforestclassifier > best_result_RandomForestClassifier:\n",
    "            best_model_RandomForestClassifier = model_RandomForestClassifier\n",
    "            best_result_RandomForestClassifier = result_randomforestclassifier \n",
    "            best_n_estimators = est\n",
    "            best_depth = depth\n",
    "\n",
    "print(\"Качество наилучшей модели:\", best_result_RandomForestClassifier,  \"с гиперпараметром max_depth: =\",best_depth, \"и с n_estimators:=\", \n",
    "     best_n_estimators)"
   ]
  },
  {
   "cell_type": "code",
   "execution_count": 48,
   "metadata": {},
   "outputs": [
    {
     "name": "stdout",
     "output_type": "stream",
     "text": [
      "Recall_RandomForestClassifier: 0.7392344497607656\n",
      "Precision_RandomForestClassifier: 0.5421052631578948\n",
      "F1_RandomForestClassifier: 0.6255060728744939\n",
      "ROC-AUC_RandomForestClassifier: 0.8551724242222611\n"
     ]
    }
   ],
   "source": [
    "model_RandomForestClassifier = RandomForestClassifier(random_state=12345, \n",
    "                                      n_estimators=20, \n",
    "                                      max_depth=7)\n",
    "model_RandomForestClassifier.fit(features_upsampled, target_upsampled)\n",
    "predictions_model_RandomForestClassifier = model_RandomForestClassifier.predict(features_valid)\n",
    "\n",
    "print(\"Recall_RandomForestClassifier:\", recall_score(target_valid, predictions_model_RandomForestClassifier))\n",
    "print(\"Precision_RandomForestClassifier:\", precision_score(target_valid, predictions_model_RandomForestClassifier))\n",
    "print(\"F1_RandomForestClassifier:\", f1_score(target_valid, predictions_model_RandomForestClassifier))\n",
    "\n",
    "probabilities = model_RandomForestClassifier.predict_proba(features_valid)\n",
    "probabilities_one = probabilities[:, 1]\n",
    "print(\"ROC-AUC_RandomForestClassifier:\", roc_auc_score(target_valid, probabilities_one))"
   ]
  },
  {
   "cell_type": "markdown",
   "metadata": {},
   "source": [
    "`LogisticRegression`"
   ]
  },
  {
   "cell_type": "code",
   "execution_count": 49,
   "metadata": {},
   "outputs": [
    {
     "name": "stdout",
     "output_type": "stream",
     "text": [
      "Recall_logisticregression: 0.6842105263157895\n",
      "Precision_logisticregression: 0.3803191489361702\n",
      "F1_logisticregression: 0.4888888888888888\n",
      "ROC-AUC_logisticregression: 0.8551724242222611\n"
     ]
    }
   ],
   "source": [
    "model_logisticregression = LogisticRegression(random_state=12345, solver='liblinear')\n",
    "model_logisticregression.fit(features_upsampled, target_upsampled)\n",
    "predictions_logisticregression = model_logisticregression.predict(features_valid) \n",
    "\n",
    "print(\"Recall_logisticregression:\", recall_score(target_valid, predictions_logisticregression))\n",
    "print(\"Precision_logisticregression:\", precision_score(target_valid, predictions_logisticregression))\n",
    "print(\"F1_logisticregression:\", f1_score(target_valid, predictions_logisticregression))\n",
    "\n",
    "probabilities = model_RandomForestClassifier.predict_proba(features_valid)\n",
    "probabilities_one = probabilities[:, 1]\n",
    "print(\"ROC-AUC_logisticregression:\", roc_auc_score(target_valid, probabilities_one))"
   ]
  },
  {
   "cell_type": "markdown",
   "metadata": {},
   "source": [
    "### Уменьшение выборки (downsampling)"
   ]
  },
  {
   "cell_type": "markdown",
   "metadata": {},
   "source": [
    "Downsampling\n",
    "\n",
    "\n",
    "Техника балансирования классов, которая заключается в уменьшении числа объектов большего класса путём случайного удаления объектов большего класса"
   ]
  },
  {
   "cell_type": "code",
   "execution_count": 50,
   "metadata": {},
   "outputs": [
    {
     "name": "stdout",
     "output_type": "stream",
     "text": [
      "(2397, 11)\n",
      "(2397,)\n"
     ]
    }
   ],
   "source": [
    "# Уменьшаем выборку в 4 раза, так как положительный класс превышает отрицательный в 4 раза\n",
    "def downsample(features, target, fraction):\n",
    "    features_zeros = features[target == 0]\n",
    "    features_ones = features[target == 1]\n",
    "    target_zeros = target[target == 0]\n",
    "    target_ones = target[target == 1]\n",
    "\n",
    "\n",
    "    features_downsampled = pd.concat([features_zeros.sample(frac=fraction, random_state=12345)] +\n",
    "                                     [features_ones])\n",
    "    target_downsampled = pd.concat([target_zeros.sample(frac=fraction, random_state=12345)] +\n",
    "                                   [target_ones])\n",
    "    \n",
    "    features_downsampled = shuffle(features_downsampled, random_state=12345)\n",
    "    target_downsampled = shuffle(target_downsampled, random_state=12345)\n",
    "\n",
    "    return features_downsampled, target_downsampled\n",
    "\n",
    "features_downsampled, target_downsampled = downsample(features_train, target_train, 0.25)\n",
    "\n",
    "print(features_downsampled.shape)\n",
    "print(target_downsampled.shape)"
   ]
  },
  {
   "cell_type": "markdown",
   "metadata": {},
   "source": [
    "`DecisionTreeClassifier`"
   ]
  },
  {
   "cell_type": "code",
   "execution_count": 51,
   "metadata": {},
   "outputs": [
    {
     "name": "stdout",
     "output_type": "stream",
     "text": [
      "Качество лучшей модели: 0.5931174089068827 с гиперпараметром max_depth: = 5\n"
     ]
    }
   ],
   "source": [
    "best_model_DecisionTreeClassifier = None\n",
    "best_result_DecisionTreeClassifier = 0\n",
    "for depth in range(1, 11):\n",
    "    model_DecisionTreeClassifier = DecisionTreeClassifier(random_state=12345, max_depth=depth)\n",
    "    model_DecisionTreeClassifier.fit(features_downsampled, target_downsampled) \n",
    "    predictions_DecisionTreeClassifier = model_DecisionTreeClassifier.predict(features_valid) \n",
    "    result_DecisionTreeClassifier = f1_score(target_valid, predictions_DecisionTreeClassifier) \n",
    "    if result_DecisionTreeClassifier > best_result_DecisionTreeClassifier:\n",
    "        best_model_DecisionTreeClassifier = model_DecisionTreeClassifier\n",
    "        best_result_DecisionTreeClassifier = result_DecisionTreeClassifier\n",
    "        best_decisiontreeclassifier_depth = depth\n",
    "        \n",
    "print(\"Качество лучшей модели:\", best_result_DecisionTreeClassifier, \"с гиперпараметром max_depth: =\",best_decisiontreeclassifier_depth)"
   ]
  },
  {
   "cell_type": "code",
   "execution_count": 52,
   "metadata": {},
   "outputs": [
    {
     "name": "stdout",
     "output_type": "stream",
     "text": [
      "Recall_DecisionTreeClassifier: 0.6698564593301436\n",
      "Precision_DecisionTreeClassifier: 0.4268292682926829\n",
      "F1_DecisionTreeClassifier: 0.521415270018622\n",
      "ROC-AUC_DecisionTreeClassifier: 0.82291433531536\n"
     ]
    }
   ],
   "source": [
    "model_DecisionTreeClassifier = DecisionTreeClassifier(random_state=12345,\n",
    "                                    max_depth=5)\n",
    "model_DecisionTreeClassifier.fit(features_downsampled, target_downsampled) \n",
    "predictions_DecisionTreeClassifier_valid = model_DecisionTreeClassifier.predict(features_valid)\n",
    "\n",
    "print(\"Recall_DecisionTreeClassifier:\", recall_score(target_valid, predictions_DecisionTreeClassifier))\n",
    "print(\"Precision_DecisionTreeClassifier:\", precision_score(target_valid, predictions_DecisionTreeClassifier))\n",
    "print(\"F1_DecisionTreeClassifier:\", f1_score(target_valid, predictions_DecisionTreeClassifier))\n",
    "\n",
    "probabilities = model_DecisionTreeClassifier.predict_proba(features_valid)\n",
    "probabilities_one = probabilities[:, 1]\n",
    "print(\"ROC-AUC_DecisionTreeClassifier:\", roc_auc_score(target_valid, probabilities_one))"
   ]
  },
  {
   "cell_type": "markdown",
   "metadata": {},
   "source": [
    "`RandomForestClassifier`"
   ]
  },
  {
   "cell_type": "code",
   "execution_count": 53,
   "metadata": {},
   "outputs": [
    {
     "name": "stdout",
     "output_type": "stream",
     "text": [
      "Качество наилучшей модели: 0.6036217303822937 с гиперпараметром max_depth: = 4 и с n_estimators:= 10\n"
     ]
    }
   ],
   "source": [
    "best_model_RandomForestClassifier = None\n",
    "best_result_RandomForestClassifier = 0  \n",
    "best_n_estimators = 0\n",
    "best_depth = 0\n",
    "for est in range(10, 101, 5):\n",
    "    for depth in range(1, 10):\n",
    "        model_RandomForestClassifier = RandomForestClassifier(random_state=12345,\n",
    "                                                             n_estimators=est, \n",
    "                                                             max_depth=depth)\n",
    "        model_RandomForestClassifier.fit(features_downsampled, target_downsampled)\n",
    "        predictions_RandomForestClassifier = model_RandomForestClassifier.predict(features_valid)\n",
    "        result_randomforestclassifier = f1_score(target_valid, predictions_RandomForestClassifier)\n",
    "        if result_randomforestclassifier > best_result_RandomForestClassifier:\n",
    "            best_model_RandomForestClassifier = model_RandomForestClassifier\n",
    "            best_result_RandomForestClassifier = result_randomforestclassifier \n",
    "            best_n_estimators = est\n",
    "            best_depth = depth\n",
    "\n",
    "print(\"Качество наилучшей модели:\", best_result_RandomForestClassifier,  \"с гиперпараметром max_depth: =\",best_depth, \"и с n_estimators:=\", \n",
    "     best_n_estimators)"
   ]
  },
  {
   "cell_type": "code",
   "execution_count": 54,
   "metadata": {},
   "outputs": [
    {
     "name": "stdout",
     "output_type": "stream",
     "text": [
      "Recall_RandomForestClassifier: 0.7177033492822966\n",
      "Precision_RandomForestClassifier: 0.5208333333333334\n",
      "F1_RandomForestClassifier: 0.6036217303822937\n",
      "ROC-AUC_RandomForestClassifier: 0.835229163012116\n"
     ]
    }
   ],
   "source": [
    "model_RandomForestClassifier = RandomForestClassifier(random_state=12345, \n",
    "                                      n_estimators=10, \n",
    "                                      max_depth=4)\n",
    "model_RandomForestClassifier.fit(features_downsampled, target_downsampled) \n",
    "predictions_model_RandomForestClassifier = model_RandomForestClassifier.predict(features_valid)\n",
    "\n",
    "print(\"Recall_RandomForestClassifier:\", recall_score(target_valid, predictions_model_RandomForestClassifier))\n",
    "print(\"Precision_RandomForestClassifier:\", precision_score(target_valid, predictions_model_RandomForestClassifier))\n",
    "print(\"F1_RandomForestClassifier:\", f1_score(target_valid, predictions_model_RandomForestClassifier))\n",
    "\n",
    "probabilities = model_RandomForestClassifier.predict_proba(features_valid)\n",
    "probabilities_one = probabilities[:, 1]\n",
    "print(\"ROC-AUC_RandomForestClassifier:\", roc_auc_score(target_valid, probabilities_one))"
   ]
  },
  {
   "cell_type": "markdown",
   "metadata": {},
   "source": [
    "`LogisticRegression`"
   ]
  },
  {
   "cell_type": "code",
   "execution_count": 55,
   "metadata": {},
   "outputs": [
    {
     "name": "stdout",
     "output_type": "stream",
     "text": [
      "Recall_logisticregression: 0.6818181818181818\n",
      "Precision_logisticregression: 0.3815261044176707\n",
      "F1_logisticregression: 0.4892703862660944\n",
      "ROC-AUC_logisticregression: 0.835229163012116\n"
     ]
    }
   ],
   "source": [
    "model_logisticregression = LogisticRegression(random_state=12345, solver='liblinear')\n",
    "model_logisticregression.fit(features_downsampled, target_downsampled) \n",
    "predictions_logisticregression = model_logisticregression.predict(features_valid) \n",
    "\n",
    "print(\"Recall_logisticregression:\", recall_score(target_valid, predictions_logisticregression))\n",
    "print(\"Precision_logisticregression:\", precision_score(target_valid, predictions_logisticregression))\n",
    "print(\"F1_logisticregression:\", f1_score(target_valid, predictions_logisticregression))\n",
    "\n",
    "probabilities = model_RandomForestClassifier.predict_proba(features_valid)\n",
    "probabilities_one = probabilities[:, 1]\n",
    "print(\"ROC-AUC_logisticregression:\", roc_auc_score(target_valid, probabilities_one))"
   ]
  },
  {
   "cell_type": "markdown",
   "metadata": {},
   "source": [
    "### Сравнение значений метрик F1-score наших моделей "
   ]
  },
  {
   "cell_type": "code",
   "execution_count": 56,
   "metadata": {},
   "outputs": [
    {
     "data": {
      "text/html": [
       "<div>\n",
       "<style scoped>\n",
       "    .dataframe tbody tr th:only-of-type {\n",
       "        vertical-align: middle;\n",
       "    }\n",
       "\n",
       "    .dataframe tbody tr th {\n",
       "        vertical-align: top;\n",
       "    }\n",
       "\n",
       "    .dataframe thead th {\n",
       "        text-align: right;\n",
       "    }\n",
       "</style>\n",
       "<table border=\"1\" class=\"dataframe\">\n",
       "  <thead>\n",
       "    <tr style=\"text-align: right;\">\n",
       "      <th></th>\n",
       "      <th>Model</th>\n",
       "      <th>Initial</th>\n",
       "      <th>Weighing</th>\n",
       "      <th>Downsampling</th>\n",
       "      <th>Upsampling</th>\n",
       "    </tr>\n",
       "  </thead>\n",
       "  <tbody>\n",
       "    <tr>\n",
       "      <th>0</th>\n",
       "      <td>DecisionTreeClassifier</td>\n",
       "      <td>0.578</td>\n",
       "      <td>0.516</td>\n",
       "      <td>0.521</td>\n",
       "      <td>0.522</td>\n",
       "    </tr>\n",
       "    <tr>\n",
       "      <th>1</th>\n",
       "      <td>RandomForestClassifier</td>\n",
       "      <td>0.580</td>\n",
       "      <td>0.631</td>\n",
       "      <td>0.603</td>\n",
       "      <td>0.625</td>\n",
       "    </tr>\n",
       "    <tr>\n",
       "      <th>2</th>\n",
       "      <td>LogisticRegression</td>\n",
       "      <td>0.330</td>\n",
       "      <td>0.488</td>\n",
       "      <td>0.489</td>\n",
       "      <td>0.488</td>\n",
       "    </tr>\n",
       "  </tbody>\n",
       "</table>\n",
       "</div>"
      ],
      "text/plain": [
       "                    Model  Initial  Weighing  Downsampling  Upsampling\n",
       "0  DecisionTreeClassifier    0.578     0.516         0.521       0.522\n",
       "1  RandomForestClassifier    0.580     0.631         0.603       0.625\n",
       "2      LogisticRegression    0.330     0.488         0.489       0.488"
      ]
     },
     "execution_count": 56,
     "metadata": {},
     "output_type": "execute_result"
    }
   ],
   "source": [
    "us_model = ['DecisionTreeClassifier', 'RandomForestClassifier', 'LogisticRegression']\n",
    "initial_values = [0.578, 0.580, 0.33]\n",
    "weighting_values = [0.516, 0.631, 0.488]\n",
    "down_values = [0.521, 0.603, 0.489]\n",
    "up_values = [0.522, 0.625, 0.488]\n",
    "\n",
    "df_f1 = pd.DataFrame({'Model': us_model,\n",
    "                           'Initial': initial_values,\n",
    "                           'Weighing': weighting_values,\n",
    "                           'Downsampling': down_values,\n",
    "                           'Upsampling': up_values })\n",
    "\n",
    "df_f1"
   ]
  },
  {
   "cell_type": "markdown",
   "metadata": {},
   "source": [
    "- Уменьшение и увеличение выборки достигают почти одинакового значения F1-score.\n",
    "- Наибольшее значение метрики F1-score мы получили с моделью `RandomForestClassifier` при помощи обучения  со взвешиванием классов.  Для тестирования будем использовать данную модель.\n",
    "- Значения метрик AUC-ROC всегда выше F1-score и превышают 80%."
   ]
  },
  {
   "cell_type": "markdown",
   "metadata": {},
   "source": [
    "## Тестирование модели"
   ]
  },
  {
   "cell_type": "markdown",
   "metadata": {},
   "source": [
    "Наибольшее значение метрики F1-score мы получили с моделью RandomForestClassifier при помощи обучения со взвешиванием классов. Для тестирования будем использовать данную модель."
   ]
  },
  {
   "cell_type": "code",
   "execution_count": 57,
   "metadata": {},
   "outputs": [
    {
     "name": "stdout",
     "output_type": "stream",
     "text": [
      "Качество наилучшей модели: 0.631236442516269 с гиперпараметром max_depth: = 8 и с n_estimators:= 50\n"
     ]
    }
   ],
   "source": [
    "best_model_RandomForestClassifier = None\n",
    "best_result_RandomForestClassifier = 0  \n",
    "best_n_estimators = 0\n",
    "best_depth = 0\n",
    "for est in range(10, 101, 5):\n",
    "    for depth in range(1, 10):\n",
    "        model_RandomForestClassifier = RandomForestClassifier(random_state=12345,\n",
    "                                                             n_estimators=est, \n",
    "                                                             max_depth=depth, class_weight='balanced')\n",
    "        model_RandomForestClassifier.fit(features_train, target_train)\n",
    "        predictions_RandomForestClassifier = model_RandomForestClassifier.predict(features_valid)\n",
    "        result_randomforestclassifier = f1_score(target_valid, predictions_RandomForestClassifier)\n",
    "        if result_randomforestclassifier > best_result_RandomForestClassifier:\n",
    "            best_model_RandomForestClassifier = model_RandomForestClassifier\n",
    "            best_result_RandomForestClassifier = result_randomforestclassifier \n",
    "            best_n_estimators = est\n",
    "            best_depth = depth\n",
    "\n",
    "print(\"Качество наилучшей модели:\", best_result_RandomForestClassifier,  \"с гиперпараметром max_depth: =\",best_depth, \"и с n_estimators:=\", \n",
    "     best_n_estimators)"
   ]
  },
  {
   "cell_type": "markdown",
   "metadata": {},
   "source": [
    "**Обучим модель с оптимальными значениями гиперпараметров:**"
   ]
  },
  {
   "cell_type": "code",
   "execution_count": 58,
   "metadata": {},
   "outputs": [
    {
     "name": "stdout",
     "output_type": "stream",
     "text": [
      "Recall_RandomForestClassifier: 0.6690307328605201\n",
      "Precision_RandomForestClassifier: 0.5570866141732284\n",
      "F1_RandomForestClassifier: 0.6079484425349088\n",
      "ROC-AUC_RandomForestClassifier: 0.8520922060770143\n"
     ]
    }
   ],
   "source": [
    "model_RandomForestClassifier = RandomForestClassifier(random_state=12345, \n",
    "                                      n_estimators=50, \n",
    "                                      max_depth=8, class_weight='balanced')\n",
    "model_RandomForestClassifier.fit(features_train, target_train) \n",
    "predictions_model_RandomForestClassifier = model_RandomForestClassifier.predict(features_test)\n",
    "\n",
    "print(\"Recall_RandomForestClassifier:\", recall_score(target_test, predictions_model_RandomForestClassifier))\n",
    "print(\"Precision_RandomForestClassifier:\", precision_score(target_test, predictions_model_RandomForestClassifier))\n",
    "print(\"F1_RandomForestClassifier:\", f1_score(target_test, predictions_model_RandomForestClassifier))\n",
    "\n",
    "probabilities = model_RandomForestClassifier.predict_proba(features_test)\n",
    "probabilities_one = probabilities[:, 1]\n",
    "print(\"ROC-AUC_RandomForestClassifier:\", roc_auc_score(target_test, probabilities_one))"
   ]
  },
  {
   "cell_type": "code",
   "execution_count": 59,
   "metadata": {},
   "outputs": [
    {
     "data": {
      "image/png": "[encoded data removed]",
      "text/plain": [
       "<Figure size 432x288 with 1 Axes>"
      ]
     },
     "metadata": {
      "needs_background": "light"
     },
     "output_type": "display_data"
    }
   ],
   "source": [
    "fpr, tpr, thresholds = roc_curve(target_test, probabilities_one)\n",
    "plt.figure()\n",
    "plt.plot(fpr, tpr, label='ROC Curve')\n",
    "plt.plot([0, 1], [0, 1], 'k--', label='Random Guessing')\n",
    "plt.xlabel('False Positive Rate')\n",
    "plt.ylabel('True Positive Rate')\n",
    "plt.title('Receiver Operating Characteristic (ROC) Curve')\n",
    "plt.legend()\n",
    "plt.show()"
   ]
  },
  {
   "cell_type": "markdown",
   "metadata": {},
   "source": [
    "## Вывод "
   ]
  },
  {
   "cell_type": "markdown",
   "metadata": {},
   "source": [
    "**Подготовили данные:**\n",
    "- Проверили датафрейм на дубликаты, их не нашлось\n",
    "\n",
    "- Удалили столбец RowNumber, так как он дублирует информацию о номере записи, которая и так есть в исходном датафрейме\n",
    "\n",
    "- Проверили наличие дубликатов в столбце CustomerId, дубликатов не нашлось, значит данные о всех клиентах уникальны, поэтому попрощались и с этим столбцом\n",
    "\n",
    "- Столбец Surname - это информация, которая идентифицирует пользователя. Наличие такого большого количества уникальных значений создает сложности для решения задачи, однако она не приносит ценности для качества будущей модели. Удалили этот столбец\n",
    "\n",
    "- В столбце Tenure, содержащим информацию о том, сколько лет человек является клиентом банка  пропущено почти 10% значений от обшего числа. Избавляться от такого столбца нецелесообразно, поэтому мы  заменили его минимальным значением\n",
    "\n",
    "- Выполнили  OHE  преобразование для столбцов Geography, Gender, избежали дамми-ловушки"
   ]
  },
  {
   "cell_type": "markdown",
   "metadata": {},
   "source": [
    "**Исследовали задачу:**\n",
    "- Разбили наши данные на 3 выборки, в результате разбиения мы получили:\n",
    "    - Обучающую выборку размером 60% от исходных данных.\n",
    "    - Валидационную выборку размером 20% от исходных данных.\n",
    "    - Тестовую выборку размером 20% от исходных данных.\n",
    "    \n",
    "- Масштабировали наши признаки\n",
    "\n",
    "- Выяснили, что целевом признаке очевиден сильный дисбаланс, отрицательных ответов почти 80% , а положитительных чуть больше 20%\n",
    "\n",
    "- Обучили наши модели до борьбы с дисбалансом, матрицы ошибок нам показали, что для всех трех наших моделей наблюдается сильный дисбаланс классов."
   ]
  },
  {
   "cell_type": "markdown",
   "metadata": {},
   "source": [
    "**Борьба с дисбалансом:**\n",
    "- Использовали  3 метода для борьбы с дисбалансом :\n",
    "    - Взвешивание классов\n",
    "    - Увеличение выборки (upsampling)\n",
    "    - Уменьшение выборки (downsampling)\n",
    "    \n",
    "- Выяснили, что: \n",
    "    - Уменьшение и увеличение выборки достигают почти одинакового значения F1-score.\n",
    "    - Наибольшее значение метрики F1-score мы получили с моделью RandomForestClassifier при помощи обучения со взвешиванием классов. Для тестирования будем использовать данную модель.\n",
    "    - Значения метрик AUC-ROC всегда выше F1-score и превышают 80%."
   ]
  },
  {
   "cell_type": "markdown",
   "metadata": {},
   "source": [
    "**Тестирование модели:**\n",
    "- Наибольшее значение метрики F1-score мы получили с моделью RandomForestClassifier при помощи обучения со взвешиванием классов. Для тестирования использовали данную модель.\n",
    "\n",
    "- Удалось достичь F1-меры не менее 0.59\n",
    "\n",
    "- Исследована метрика AUC-ROC"
   ]
  }
 ],
 "metadata": {
  "ExecuteTimeLog": [
   {
    "duration": 1160,
    "start_time": "2023-10-14T15:50:40.732Z"
   },
   {
    "duration": 150,
    "start_time": "2023-10-14T15:51:21.153Z"
   },
   {
    "duration": 19,
    "start_time": "2023-10-14T15:51:31.254Z"
   },
   {
    "duration": 18,
    "start_time": "2023-10-14T15:51:51.104Z"
   },
   {
    "duration": 1142,
    "start_time": "2023-10-16T13:54:02.175Z"
   },
   {
    "duration": 167,
    "start_time": "2023-10-16T13:54:03.319Z"
   },
   {
    "duration": 19,
    "start_time": "2023-10-16T13:54:03.488Z"
   },
   {
    "duration": 13,
    "start_time": "2023-10-16T13:54:03.509Z"
   },
   {
    "duration": 94,
    "start_time": "2023-10-16T14:01:55.756Z"
   },
   {
    "duration": 10,
    "start_time": "2023-10-16T14:02:01.877Z"
   },
   {
    "duration": 23,
    "start_time": "2023-10-16T14:11:20.460Z"
   },
   {
    "duration": 5,
    "start_time": "2023-10-16T14:13:56.491Z"
   },
   {
    "duration": 23,
    "start_time": "2023-10-16T14:14:57.382Z"
   },
   {
    "duration": 10,
    "start_time": "2023-10-16T14:15:23.823Z"
   },
   {
    "duration": 5,
    "start_time": "2023-10-16T14:15:36.867Z"
   },
   {
    "duration": 26,
    "start_time": "2023-10-16T14:15:39.707Z"
   },
   {
    "duration": 24,
    "start_time": "2023-10-16T14:15:57.150Z"
   },
   {
    "duration": 3,
    "start_time": "2023-10-16T14:16:27.255Z"
   },
   {
    "duration": 43,
    "start_time": "2023-10-16T14:16:29.390Z"
   },
   {
    "duration": 13,
    "start_time": "2023-10-16T14:16:31.263Z"
   },
   {
    "duration": 18,
    "start_time": "2023-10-16T14:16:34.096Z"
   },
   {
    "duration": 11,
    "start_time": "2023-10-16T14:16:36.316Z"
   },
   {
    "duration": 5,
    "start_time": "2023-10-16T14:16:38.666Z"
   },
   {
    "duration": 4,
    "start_time": "2023-10-16T14:16:44.840Z"
   },
   {
    "duration": 5,
    "start_time": "2023-10-16T14:16:56.074Z"
   },
   {
    "duration": 6,
    "start_time": "2023-10-16T14:21:53.416Z"
   },
   {
    "duration": 4,
    "start_time": "2023-10-16T14:28:57.533Z"
   },
   {
    "duration": 6,
    "start_time": "2023-10-16T14:34:57.391Z"
   },
   {
    "duration": 5,
    "start_time": "2023-10-16T14:35:06.791Z"
   },
   {
    "duration": 19,
    "start_time": "2023-10-16T14:41:17.981Z"
   },
   {
    "duration": 113,
    "start_time": "2023-10-16T14:44:37.726Z"
   },
   {
    "duration": 2,
    "start_time": "2023-10-16T16:23:03.162Z"
   },
   {
    "duration": 5,
    "start_time": "2023-10-16T16:24:35.906Z"
   },
   {
    "duration": 7,
    "start_time": "2023-10-16T16:25:18.389Z"
   },
   {
    "duration": 6,
    "start_time": "2023-10-16T16:25:52.273Z"
   },
   {
    "duration": 5,
    "start_time": "2023-10-16T16:26:30.091Z"
   },
   {
    "duration": 10,
    "start_time": "2023-10-16T16:27:33.723Z"
   },
   {
    "duration": 20,
    "start_time": "2023-10-16T17:19:52.319Z"
   },
   {
    "duration": 18,
    "start_time": "2023-10-16T17:20:05.707Z"
   },
   {
    "duration": 19,
    "start_time": "2023-10-16T17:20:26.403Z"
   },
   {
    "duration": 35,
    "start_time": "2023-10-16T17:20:47.934Z"
   },
   {
    "duration": 18,
    "start_time": "2023-10-16T17:20:55.613Z"
   },
   {
    "duration": 11,
    "start_time": "2023-10-16T17:21:26.708Z"
   },
   {
    "duration": 14,
    "start_time": "2023-10-16T17:21:37.522Z"
   },
   {
    "duration": 11,
    "start_time": "2023-10-16T17:21:58.493Z"
   },
   {
    "duration": 1258,
    "start_time": "2023-10-16T17:22:28.859Z"
   },
   {
    "duration": 52,
    "start_time": "2023-10-16T17:22:30.120Z"
   },
   {
    "duration": 27,
    "start_time": "2023-10-16T17:22:30.174Z"
   },
   {
    "duration": 53,
    "start_time": "2023-10-16T17:22:30.203Z"
   },
   {
    "duration": 25,
    "start_time": "2023-10-16T17:22:30.264Z"
   },
   {
    "duration": 46,
    "start_time": "2023-10-16T17:22:30.291Z"
   },
   {
    "duration": 82,
    "start_time": "2023-10-16T17:22:30.339Z"
   },
   {
    "duration": 57,
    "start_time": "2023-10-16T17:22:30.423Z"
   },
   {
    "duration": 37,
    "start_time": "2023-10-16T17:22:30.482Z"
   },
   {
    "duration": 64,
    "start_time": "2023-10-16T17:22:30.520Z"
   },
   {
    "duration": 52,
    "start_time": "2023-10-16T17:22:30.586Z"
   },
   {
    "duration": 52,
    "start_time": "2023-10-16T17:22:30.640Z"
   },
   {
    "duration": 73,
    "start_time": "2023-10-16T17:22:30.693Z"
   },
   {
    "duration": 111,
    "start_time": "2023-10-16T17:22:30.769Z"
   },
   {
    "duration": 87,
    "start_time": "2023-10-16T17:22:30.882Z"
   },
   {
    "duration": 51,
    "start_time": "2023-10-16T17:22:30.971Z"
   },
   {
    "duration": 71,
    "start_time": "2023-10-16T17:22:31.024Z"
   },
   {
    "duration": 15,
    "start_time": "2023-10-16T17:23:01.255Z"
   },
   {
    "duration": 11,
    "start_time": "2023-10-16T17:23:07.662Z"
   },
   {
    "duration": 12,
    "start_time": "2023-10-16T17:23:16.617Z"
   },
   {
    "duration": 3,
    "start_time": "2023-10-16T18:41:10.771Z"
   },
   {
    "duration": 94,
    "start_time": "2023-10-16T18:42:09.475Z"
   },
   {
    "duration": 3,
    "start_time": "2023-10-16T18:42:24.435Z"
   },
   {
    "duration": 7,
    "start_time": "2023-10-16T18:42:29.099Z"
   },
   {
    "duration": 7,
    "start_time": "2023-10-16T18:42:34.373Z"
   },
   {
    "duration": 32,
    "start_time": "2023-10-16T18:42:55.232Z"
   },
   {
    "duration": 4,
    "start_time": "2023-10-16T18:43:09.565Z"
   },
   {
    "duration": 17,
    "start_time": "2023-10-16T18:43:43.881Z"
   },
   {
    "duration": 18,
    "start_time": "2023-10-16T18:44:14.900Z"
   },
   {
    "duration": 1181,
    "start_time": "2023-10-16T18:46:58.246Z"
   },
   {
    "duration": 46,
    "start_time": "2023-10-16T18:46:59.429Z"
   },
   {
    "duration": 19,
    "start_time": "2023-10-16T18:46:59.476Z"
   },
   {
    "duration": 18,
    "start_time": "2023-10-16T18:46:59.497Z"
   },
   {
    "duration": 14,
    "start_time": "2023-10-16T18:46:59.518Z"
   },
   {
    "duration": 8,
    "start_time": "2023-10-16T18:46:59.534Z"
   },
   {
    "duration": 14,
    "start_time": "2023-10-16T18:46:59.543Z"
   },
   {
    "duration": 8,
    "start_time": "2023-10-16T18:46:59.559Z"
   },
   {
    "duration": 12,
    "start_time": "2023-10-16T18:46:59.568Z"
   },
   {
    "duration": 7,
    "start_time": "2023-10-16T18:46:59.581Z"
   },
   {
    "duration": 17,
    "start_time": "2023-10-16T18:46:59.590Z"
   },
   {
    "duration": 19,
    "start_time": "2023-10-16T18:46:59.609Z"
   },
   {
    "duration": 73,
    "start_time": "2023-10-16T18:46:59.630Z"
   },
   {
    "duration": 5,
    "start_time": "2023-10-16T18:46:59.707Z"
   },
   {
    "duration": 8,
    "start_time": "2023-10-16T18:46:59.713Z"
   },
   {
    "duration": 10,
    "start_time": "2023-10-16T18:46:59.723Z"
   },
   {
    "duration": 6,
    "start_time": "2023-10-16T18:46:59.735Z"
   },
   {
    "duration": 12,
    "start_time": "2023-10-16T18:46:59.742Z"
   },
   {
    "duration": 15,
    "start_time": "2023-10-16T18:46:59.756Z"
   },
   {
    "duration": 24,
    "start_time": "2023-10-16T18:46:59.773Z"
   },
   {
    "duration": 29,
    "start_time": "2023-10-16T18:46:59.799Z"
   },
   {
    "duration": 22,
    "start_time": "2023-10-16T18:46:59.830Z"
   },
   {
    "duration": 1074,
    "start_time": "2023-10-19T15:22:42.539Z"
   },
   {
    "duration": 93,
    "start_time": "2023-10-19T15:22:43.615Z"
   },
   {
    "duration": 17,
    "start_time": "2023-10-19T15:22:43.709Z"
   },
   {
    "duration": 10,
    "start_time": "2023-10-19T15:22:43.728Z"
   },
   {
    "duration": 9,
    "start_time": "2023-10-19T15:22:43.740Z"
   },
   {
    "duration": 3,
    "start_time": "2023-10-19T15:22:43.750Z"
   },
   {
    "duration": 9,
    "start_time": "2023-10-19T15:22:43.754Z"
   },
   {
    "duration": 4,
    "start_time": "2023-10-19T15:22:43.765Z"
   },
   {
    "duration": 4,
    "start_time": "2023-10-19T15:22:43.771Z"
   },
   {
    "duration": 4,
    "start_time": "2023-10-19T15:22:43.776Z"
   },
   {
    "duration": 6,
    "start_time": "2023-10-19T15:22:43.781Z"
   },
   {
    "duration": 6,
    "start_time": "2023-10-19T15:22:43.788Z"
   },
   {
    "duration": 44,
    "start_time": "2023-10-19T15:22:43.796Z"
   },
   {
    "duration": 5,
    "start_time": "2023-10-19T15:22:43.843Z"
   },
   {
    "duration": 10,
    "start_time": "2023-10-19T15:22:43.849Z"
   },
   {
    "duration": 5,
    "start_time": "2023-10-19T15:22:43.861Z"
   },
   {
    "duration": 5,
    "start_time": "2023-10-19T15:22:43.867Z"
   },
   {
    "duration": 5,
    "start_time": "2023-10-19T15:22:43.873Z"
   },
   {
    "duration": 7,
    "start_time": "2023-10-19T15:22:43.879Z"
   },
   {
    "duration": 18,
    "start_time": "2023-10-19T15:22:43.887Z"
   },
   {
    "duration": 42,
    "start_time": "2023-10-19T15:22:43.906Z"
   },
   {
    "duration": 14,
    "start_time": "2023-10-19T15:22:43.949Z"
   },
   {
    "duration": 545,
    "start_time": "2023-10-19T16:00:30.737Z"
   },
   {
    "duration": 91,
    "start_time": "2023-10-19T16:00:38.379Z"
   },
   {
    "duration": 1137,
    "start_time": "2023-10-19T16:03:39.823Z"
   },
   {
    "duration": 104,
    "start_time": "2023-10-19T16:04:26.347Z"
   },
   {
    "duration": 5,
    "start_time": "2023-10-19T16:05:03.198Z"
   },
   {
    "duration": 166,
    "start_time": "2023-10-19T16:05:09.400Z"
   },
   {
    "duration": 175,
    "start_time": "2023-10-19T16:05:50.943Z"
   },
   {
    "duration": 173,
    "start_time": "2023-10-19T16:06:13.762Z"
   },
   {
    "duration": 154,
    "start_time": "2023-10-19T16:06:20.059Z"
   },
   {
    "duration": 157,
    "start_time": "2023-10-19T16:08:31.378Z"
   },
   {
    "duration": 150,
    "start_time": "2023-10-19T16:10:01.647Z"
   },
   {
    "duration": 159,
    "start_time": "2023-10-19T16:10:59.990Z"
   },
   {
    "duration": 177,
    "start_time": "2023-10-19T16:11:11.593Z"
   },
   {
    "duration": 175,
    "start_time": "2023-10-19T16:12:36.867Z"
   },
   {
    "duration": 195,
    "start_time": "2023-10-19T16:15:52.277Z"
   },
   {
    "duration": 30,
    "start_time": "2023-10-19T16:16:23.412Z"
   },
   {
    "duration": 29,
    "start_time": "2023-10-19T16:16:50.059Z"
   },
   {
    "duration": 8,
    "start_time": "2023-10-19T16:17:53.004Z"
   },
   {
    "duration": 15,
    "start_time": "2023-10-19T16:22:46.946Z"
   },
   {
    "duration": 71,
    "start_time": "2023-10-19T16:23:37.818Z"
   },
   {
    "duration": 13,
    "start_time": "2023-10-19T16:24:07.762Z"
   },
   {
    "duration": 201539,
    "start_time": "2023-10-19T16:24:55.585Z"
   },
   {
    "duration": 35,
    "start_time": "2023-10-19T16:31:14.001Z"
   },
   {
    "duration": 19023,
    "start_time": "2023-10-19T16:32:11.600Z"
   },
   {
    "duration": 19211,
    "start_time": "2023-10-19T16:34:58.268Z"
   },
   {
    "duration": 19082,
    "start_time": "2023-10-19T16:35:52.500Z"
   },
   {
    "duration": 18903,
    "start_time": "2023-10-19T16:36:18.917Z"
   },
   {
    "duration": 19107,
    "start_time": "2023-10-19T16:38:41.635Z"
   },
   {
    "duration": 19026,
    "start_time": "2023-10-19T16:39:46.007Z"
   },
   {
    "duration": 18840,
    "start_time": "2023-10-19T16:40:11.370Z"
   },
   {
    "duration": 35934,
    "start_time": "2023-10-19T16:41:27.191Z"
   },
   {
    "duration": 36079,
    "start_time": "2023-10-19T16:42:45.570Z"
   },
   {
    "duration": 76,
    "start_time": "2023-10-19T16:44:42.787Z"
   },
   {
    "duration": 9,
    "start_time": "2023-10-19T16:45:11.228Z"
   },
   {
    "duration": 12,
    "start_time": "2023-10-19T16:45:47.560Z"
   },
   {
    "duration": 32,
    "start_time": "2023-10-19T16:48:13.624Z"
   },
   {
    "duration": 11,
    "start_time": "2023-10-19T16:50:05.492Z"
   },
   {
    "duration": 9,
    "start_time": "2023-10-19T17:09:07.067Z"
   },
   {
    "duration": 223,
    "start_time": "2023-10-19T17:09:12.298Z"
   },
   {
    "duration": 98,
    "start_time": "2023-10-19T17:09:23.425Z"
   },
   {
    "duration": 131,
    "start_time": "2023-10-19T17:10:11.464Z"
   },
   {
    "duration": 127,
    "start_time": "2023-10-19T17:10:30.200Z"
   },
   {
    "duration": 112,
    "start_time": "2023-10-19T17:11:07.796Z"
   },
   {
    "duration": 301,
    "start_time": "2023-10-19T17:11:46.940Z"
   },
   {
    "duration": 1023,
    "start_time": "2023-10-21T15:10:28.307Z"
   },
   {
    "duration": 92,
    "start_time": "2023-10-21T15:10:29.331Z"
   },
   {
    "duration": 26,
    "start_time": "2023-10-21T15:10:29.425Z"
   },
   {
    "duration": 16,
    "start_time": "2023-10-21T15:10:29.454Z"
   },
   {
    "duration": 11,
    "start_time": "2023-10-21T15:10:29.471Z"
   },
   {
    "duration": 3,
    "start_time": "2023-10-21T15:10:29.484Z"
   },
   {
    "duration": 4,
    "start_time": "2023-10-21T15:10:29.489Z"
   },
   {
    "duration": 4,
    "start_time": "2023-10-21T15:10:29.494Z"
   },
   {
    "duration": 4,
    "start_time": "2023-10-21T15:10:29.499Z"
   },
   {
    "duration": 3,
    "start_time": "2023-10-21T15:10:29.505Z"
   },
   {
    "duration": 37,
    "start_time": "2023-10-21T15:10:29.509Z"
   },
   {
    "duration": 9,
    "start_time": "2023-10-21T15:10:29.557Z"
   },
   {
    "duration": 20,
    "start_time": "2023-10-21T15:10:29.567Z"
   },
   {
    "duration": 5,
    "start_time": "2023-10-21T15:10:29.589Z"
   },
   {
    "duration": 5,
    "start_time": "2023-10-21T15:10:29.596Z"
   },
   {
    "duration": 7,
    "start_time": "2023-10-21T15:10:29.603Z"
   },
   {
    "duration": 5,
    "start_time": "2023-10-21T15:10:29.611Z"
   },
   {
    "duration": 41,
    "start_time": "2023-10-21T15:10:29.618Z"
   },
   {
    "duration": 9,
    "start_time": "2023-10-21T15:10:29.661Z"
   },
   {
    "duration": 22,
    "start_time": "2023-10-21T15:10:29.673Z"
   },
   {
    "duration": 14,
    "start_time": "2023-10-21T15:10:29.696Z"
   },
   {
    "duration": 13,
    "start_time": "2023-10-21T15:10:29.711Z"
   },
   {
    "duration": 630,
    "start_time": "2023-10-21T15:10:29.726Z"
   },
   {
    "duration": 203,
    "start_time": "2023-10-21T15:10:30.358Z"
   },
   {
    "duration": 34,
    "start_time": "2023-10-21T15:10:30.563Z"
   },
   {
    "duration": 33,
    "start_time": "2023-10-21T15:10:30.598Z"
   },
   {
    "duration": 36832,
    "start_time": "2023-10-21T15:10:30.633Z"
   },
   {
    "duration": 62,
    "start_time": "2023-10-21T15:11:07.468Z"
   },
   {
    "duration": 25,
    "start_time": "2023-10-21T15:11:07.531Z"
   },
   {
    "duration": 17,
    "start_time": "2023-10-21T15:11:07.558Z"
   },
   {
    "duration": 171,
    "start_time": "2023-10-21T15:11:07.577Z"
   },
   {
    "duration": 140,
    "start_time": "2023-10-21T15:11:07.750Z"
   },
   {
    "duration": 122,
    "start_time": "2023-10-21T15:11:07.892Z"
   },
   {
    "duration": 306,
    "start_time": "2023-10-21T15:11:08.017Z"
   },
   {
    "duration": 193,
    "start_time": "2023-10-21T15:18:17.731Z"
   },
   {
    "duration": 33,
    "start_time": "2023-10-21T15:20:22.453Z"
   },
   {
    "duration": 114,
    "start_time": "2023-10-21T15:22:11.709Z"
   },
   {
    "duration": 13,
    "start_time": "2023-10-21T15:22:21.157Z"
   },
   {
    "duration": 38588,
    "start_time": "2023-10-21T15:27:10.476Z"
   },
   {
    "duration": 20,
    "start_time": "2023-10-21T15:29:04.057Z"
   },
   {
    "duration": 16,
    "start_time": "2023-10-21T15:29:06.507Z"
   },
   {
    "duration": 96,
    "start_time": "2023-10-21T15:29:51.243Z"
   },
   {
    "duration": 270,
    "start_time": "2023-10-21T15:30:50.509Z"
   },
   {
    "duration": 33,
    "start_time": "2023-10-21T15:31:59.984Z"
   },
   {
    "duration": 27,
    "start_time": "2023-10-21T15:33:44.462Z"
   },
   {
    "duration": 15,
    "start_time": "2023-10-21T15:34:03.687Z"
   },
   {
    "duration": 26,
    "start_time": "2023-10-21T15:35:18.592Z"
   },
   {
    "duration": 16,
    "start_time": "2023-10-21T15:50:34.118Z"
   },
   {
    "duration": 298,
    "start_time": "2023-10-21T15:53:37.495Z"
   },
   {
    "duration": 267,
    "start_time": "2023-10-21T15:55:29.369Z"
   },
   {
    "duration": 49,
    "start_time": "2023-10-21T15:56:42.261Z"
   },
   {
    "duration": 52,
    "start_time": "2023-10-21T15:57:03.977Z"
   },
   {
    "duration": 259,
    "start_time": "2023-10-21T15:57:08.479Z"
   },
   {
    "duration": 1244,
    "start_time": "2023-10-21T15:57:36.449Z"
   },
   {
    "duration": 66,
    "start_time": "2023-10-21T15:57:37.695Z"
   },
   {
    "duration": 33,
    "start_time": "2023-10-21T15:57:37.765Z"
   },
   {
    "duration": 11,
    "start_time": "2023-10-21T15:57:37.799Z"
   },
   {
    "duration": 13,
    "start_time": "2023-10-21T15:57:37.812Z"
   },
   {
    "duration": 5,
    "start_time": "2023-10-21T15:57:37.827Z"
   },
   {
    "duration": 38,
    "start_time": "2023-10-21T15:57:37.834Z"
   },
   {
    "duration": 13,
    "start_time": "2023-10-21T15:57:37.873Z"
   },
   {
    "duration": 5,
    "start_time": "2023-10-21T15:57:37.889Z"
   },
   {
    "duration": 22,
    "start_time": "2023-10-21T15:57:37.895Z"
   },
   {
    "duration": 6,
    "start_time": "2023-10-21T15:57:37.919Z"
   },
   {
    "duration": 5,
    "start_time": "2023-10-21T15:57:37.926Z"
   },
   {
    "duration": 45,
    "start_time": "2023-10-21T15:57:37.932Z"
   },
   {
    "duration": 5,
    "start_time": "2023-10-21T15:57:37.981Z"
   },
   {
    "duration": 6,
    "start_time": "2023-10-21T15:57:37.988Z"
   },
   {
    "duration": 5,
    "start_time": "2023-10-21T15:57:37.995Z"
   },
   {
    "duration": 4,
    "start_time": "2023-10-21T15:57:38.002Z"
   },
   {
    "duration": 3,
    "start_time": "2023-10-21T15:57:38.007Z"
   },
   {
    "duration": 13,
    "start_time": "2023-10-21T15:57:38.011Z"
   },
   {
    "duration": 75,
    "start_time": "2023-10-21T15:57:38.025Z"
   },
   {
    "duration": 16,
    "start_time": "2023-10-21T15:57:38.102Z"
   },
   {
    "duration": 16,
    "start_time": "2023-10-21T15:57:38.119Z"
   },
   {
    "duration": 377,
    "start_time": "2023-10-21T15:57:38.136Z"
   },
   {
    "duration": 194,
    "start_time": "2023-10-21T15:57:38.514Z"
   },
   {
    "duration": 51,
    "start_time": "2023-10-21T15:57:38.709Z"
   },
   {
    "duration": 17,
    "start_time": "2023-10-21T15:57:38.761Z"
   },
   {
    "duration": 42263,
    "start_time": "2023-10-21T15:57:38.784Z"
   },
   {
    "duration": 122,
    "start_time": "2023-10-21T15:58:21.049Z"
   },
   {
    "duration": 18,
    "start_time": "2023-10-21T15:58:21.175Z"
   },
   {
    "duration": 72,
    "start_time": "2023-10-21T15:58:21.195Z"
   },
   {
    "duration": 76,
    "start_time": "2023-10-21T15:58:21.268Z"
   },
   {
    "duration": 192,
    "start_time": "2023-10-21T15:58:21.345Z"
   },
   {
    "duration": 137,
    "start_time": "2023-10-21T15:58:21.543Z"
   },
   {
    "duration": 312,
    "start_time": "2023-10-21T15:58:21.682Z"
   },
   {
    "duration": 200,
    "start_time": "2023-10-21T15:58:21.995Z"
   },
   {
    "duration": 20,
    "start_time": "2023-10-21T15:58:22.196Z"
   },
   {
    "duration": 40,
    "start_time": "2023-10-21T15:58:22.218Z"
   },
   {
    "duration": 41523,
    "start_time": "2023-10-21T15:58:22.277Z"
   },
   {
    "duration": 314,
    "start_time": "2023-10-21T15:59:03.801Z"
   },
   {
    "duration": 43,
    "start_time": "2023-10-21T15:59:04.117Z"
   },
   {
    "duration": 98,
    "start_time": "2023-10-21T15:59:04.167Z"
   },
   {
    "duration": 143,
    "start_time": "2023-10-21T15:59:04.272Z"
   },
   {
    "duration": 14,
    "start_time": "2023-10-21T15:59:04.417Z"
   },
   {
    "duration": 332,
    "start_time": "2023-10-21T15:59:04.432Z"
   },
   {
    "duration": 50,
    "start_time": "2023-10-21T15:59:04.773Z"
   },
   {
    "duration": 53319,
    "start_time": "2023-10-21T16:03:00.161Z"
   },
   {
    "duration": 158,
    "start_time": "2023-10-21T16:04:58.170Z"
   },
   {
    "duration": 57,
    "start_time": "2023-10-21T16:09:19.395Z"
   },
   {
    "duration": 11,
    "start_time": "2023-10-21T16:11:45.206Z"
   },
   {
    "duration": 117,
    "start_time": "2023-10-21T16:15:42.941Z"
   },
   {
    "duration": 20,
    "start_time": "2023-10-21T16:16:19.078Z"
   },
   {
    "duration": 23797,
    "start_time": "2023-10-21T16:18:33.479Z"
   },
   {
    "duration": 40,
    "start_time": "2023-10-21T16:19:32.869Z"
   },
   {
    "duration": 77,
    "start_time": "2023-10-21T16:19:53.273Z"
   },
   {
    "duration": 168,
    "start_time": "2023-10-21T16:20:18.080Z"
   },
   {
    "duration": 10,
    "start_time": "2023-10-21T16:29:49.571Z"
   },
   {
    "duration": 38840,
    "start_time": "2023-10-21T16:38:24.195Z"
   },
   {
    "duration": 303,
    "start_time": "2023-10-21T16:45:32.282Z"
   },
   {
    "duration": 284,
    "start_time": "2023-10-21T16:46:49.278Z"
   },
   {
    "duration": 105,
    "start_time": "2023-10-21T16:49:23.197Z"
   },
   {
    "duration": 4,
    "start_time": "2023-10-21T16:49:46.870Z"
   },
   {
    "duration": 9,
    "start_time": "2023-10-21T16:49:57.028Z"
   },
   {
    "duration": 4,
    "start_time": "2023-10-21T16:50:36.632Z"
   },
   {
    "duration": 8,
    "start_time": "2023-10-21T16:50:44.321Z"
   },
   {
    "duration": 9,
    "start_time": "2023-10-21T16:51:34.812Z"
   },
   {
    "duration": 9,
    "start_time": "2023-10-21T16:53:29.363Z"
   },
   {
    "duration": 9,
    "start_time": "2023-10-21T16:53:35.182Z"
   },
   {
    "duration": 13,
    "start_time": "2023-10-21T16:53:44.570Z"
   },
   {
    "duration": 5,
    "start_time": "2023-10-21T16:54:16.302Z"
   },
   {
    "duration": 126,
    "start_time": "2023-10-21T16:54:35.963Z"
   },
   {
    "duration": 50,
    "start_time": "2023-10-22T10:38:05.062Z"
   },
   {
    "duration": 1542,
    "start_time": "2023-10-22T10:38:16.890Z"
   },
   {
    "duration": 82,
    "start_time": "2023-10-22T10:38:18.434Z"
   },
   {
    "duration": 19,
    "start_time": "2023-10-22T10:38:18.517Z"
   },
   {
    "duration": 27,
    "start_time": "2023-10-22T10:38:18.539Z"
   },
   {
    "duration": 32,
    "start_time": "2023-10-22T10:38:18.568Z"
   },
   {
    "duration": 13,
    "start_time": "2023-10-22T10:38:18.601Z"
   },
   {
    "duration": 18,
    "start_time": "2023-10-22T10:38:18.616Z"
   },
   {
    "duration": 23,
    "start_time": "2023-10-22T10:38:18.635Z"
   },
   {
    "duration": 22,
    "start_time": "2023-10-22T10:38:18.659Z"
   },
   {
    "duration": 26,
    "start_time": "2023-10-22T10:38:18.684Z"
   },
   {
    "duration": 37,
    "start_time": "2023-10-22T10:38:18.712Z"
   },
   {
    "duration": 9,
    "start_time": "2023-10-22T10:38:18.751Z"
   },
   {
    "duration": 26,
    "start_time": "2023-10-22T10:38:18.761Z"
   },
   {
    "duration": 33,
    "start_time": "2023-10-22T10:38:18.788Z"
   },
   {
    "duration": 11,
    "start_time": "2023-10-22T10:38:18.822Z"
   },
   {
    "duration": 18,
    "start_time": "2023-10-22T10:38:18.835Z"
   },
   {
    "duration": 33,
    "start_time": "2023-10-22T10:38:18.855Z"
   },
   {
    "duration": 24,
    "start_time": "2023-10-22T10:38:18.890Z"
   },
   {
    "duration": 24,
    "start_time": "2023-10-22T10:38:18.916Z"
   },
   {
    "duration": 19,
    "start_time": "2023-10-22T10:38:18.941Z"
   },
   {
    "duration": 43,
    "start_time": "2023-10-22T10:38:18.961Z"
   },
   {
    "duration": 19,
    "start_time": "2023-10-22T10:38:19.005Z"
   },
   {
    "duration": 34,
    "start_time": "2023-10-22T10:38:19.026Z"
   },
   {
    "duration": 125,
    "start_time": "2023-10-22T10:38:19.061Z"
   },
   {
    "duration": 166,
    "start_time": "2023-10-22T10:38:19.188Z"
   },
   {
    "duration": 24,
    "start_time": "2023-10-22T10:38:19.356Z"
   },
   {
    "duration": 9,
    "start_time": "2023-10-22T10:38:19.382Z"
   },
   {
    "duration": 35502,
    "start_time": "2023-10-22T10:38:19.394Z"
   },
   {
    "duration": 78,
    "start_time": "2023-10-22T10:38:54.897Z"
   },
   {
    "duration": 11,
    "start_time": "2023-10-22T10:38:54.977Z"
   },
   {
    "duration": 71,
    "start_time": "2023-10-22T10:38:54.989Z"
   },
   {
    "duration": 100,
    "start_time": "2023-10-22T10:38:55.145Z"
   },
   {
    "duration": 154,
    "start_time": "2023-10-22T10:38:55.247Z"
   },
   {
    "duration": 199,
    "start_time": "2023-10-22T10:38:55.403Z"
   },
   {
    "duration": 294,
    "start_time": "2023-10-22T10:38:55.604Z"
   },
   {
    "duration": 182,
    "start_time": "2023-10-22T10:38:55.900Z"
   },
   {
    "duration": 18,
    "start_time": "2023-10-22T10:38:56.084Z"
   },
   {
    "duration": 13,
    "start_time": "2023-10-22T10:38:56.104Z"
   },
   {
    "duration": 35877,
    "start_time": "2023-10-22T10:38:56.118Z"
   },
   {
    "duration": 270,
    "start_time": "2023-10-22T10:39:31.997Z"
   },
   {
    "duration": 31,
    "start_time": "2023-10-22T10:39:32.269Z"
   },
   {
    "duration": 69,
    "start_time": "2023-10-22T10:39:32.301Z"
   },
   {
    "duration": 127,
    "start_time": "2023-10-22T10:39:32.445Z"
   },
   {
    "duration": 11,
    "start_time": "2023-10-22T10:39:32.574Z"
   },
   {
    "duration": 268,
    "start_time": "2023-10-22T10:39:32.587Z"
   },
   {
    "duration": 33,
    "start_time": "2023-10-22T10:39:32.856Z"
   },
   {
    "duration": 48380,
    "start_time": "2023-10-22T10:39:32.890Z"
   },
   {
    "duration": 163,
    "start_time": "2023-10-22T10:40:21.272Z"
   },
   {
    "duration": 219,
    "start_time": "2023-10-22T10:40:21.437Z"
   },
   {
    "duration": 16,
    "start_time": "2023-10-22T10:40:21.658Z"
   },
   {
    "duration": 116,
    "start_time": "2023-10-22T10:40:21.675Z"
   },
   {
    "duration": 21,
    "start_time": "2023-10-22T10:40:21.792Z"
   },
   {
    "duration": 22988,
    "start_time": "2023-10-22T10:40:21.814Z"
   },
   {
    "duration": 47,
    "start_time": "2023-10-22T10:40:44.804Z"
   },
   {
    "duration": 195,
    "start_time": "2023-10-22T10:40:44.853Z"
   },
   {
    "duration": 11,
    "start_time": "2023-10-22T10:40:45.051Z"
   },
   {
    "duration": 36438,
    "start_time": "2023-10-22T10:40:45.064Z"
   },
   {
    "duration": 293,
    "start_time": "2023-10-22T10:41:21.504Z"
   },
   {
    "duration": 156,
    "start_time": "2023-10-22T10:41:21.799Z"
   },
   {
    "duration": 4,
    "start_time": "2023-10-22T10:41:21.959Z"
   },
   {
    "duration": 4,
    "start_time": "2023-10-22T10:41:26.473Z"
   },
   {
    "duration": 107,
    "start_time": "2023-10-22T10:41:40.192Z"
   },
   {
    "duration": 40,
    "start_time": "2023-10-22T10:41:43.964Z"
   },
   {
    "duration": 4,
    "start_time": "2023-10-22T10:41:45.411Z"
   },
   {
    "duration": 397,
    "start_time": "2023-10-22T10:42:43.138Z"
   },
   {
    "duration": 47,
    "start_time": "2023-10-22T10:45:50.323Z"
   },
   {
    "duration": 105,
    "start_time": "2023-10-22T10:47:37.183Z"
   },
   {
    "duration": 101,
    "start_time": "2023-10-22T10:51:29.586Z"
   },
   {
    "duration": 100,
    "start_time": "2023-10-22T10:51:50.027Z"
   },
   {
    "duration": 5,
    "start_time": "2023-10-22T10:55:29.551Z"
   },
   {
    "duration": 48,
    "start_time": "2023-11-06T12:03:19.970Z"
   }
  ],
  "kernelspec": {
   "display_name": "Python 3 (ipykernel)",
   "language": "python",
   "name": "python3"
  },
  "language_info": {
   "codemirror_mode": {
    "name": "ipython",
    "version": 3
   },
   "file_extension": ".py",
   "mimetype": "text/x-python",
   "name": "python",
   "nbconvert_exporter": "python",
   "pygments_lexer": "ipython3",
   "version": "3.10.9"
  },
  "toc": {
   "base_numbering": 1,
   "nav_menu": {},
   "number_sections": true,
   "sideBar": true,
   "skip_h1_title": true,
   "title_cell": "Содержание",
   "title_sidebar": "Contents",
   "toc_cell": true,
   "toc_position": {
    "height": "calc(100% - 180px)",
    "left": "10px",
    "top": "150px",
    "width": "303.797px"
   },
   "toc_section_display": true,
   "toc_window_display": false
  }
 },
 "nbformat": 4,
 "nbformat_minor": 2
}
